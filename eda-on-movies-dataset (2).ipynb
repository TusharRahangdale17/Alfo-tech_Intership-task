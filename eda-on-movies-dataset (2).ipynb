{
 "cells": [
  {
   "cell_type": "code",
   "execution_count": 1,
   "id": "2fb99ef2",
   "metadata": {
    "execution": {
     "iopub.execute_input": "2023-08-08T13:41:39.358493Z",
     "iopub.status.busy": "2023-08-08T13:41:39.358101Z",
     "iopub.status.idle": "2023-08-08T13:41:40.809677Z",
     "shell.execute_reply": "2023-08-08T13:41:40.808464Z"
    },
    "papermill": {
     "duration": 1.476513,
     "end_time": "2023-08-08T13:41:40.812525",
     "exception": false,
     "start_time": "2023-08-08T13:41:39.336012",
     "status": "completed"
    },
    "tags": []
   },
   "outputs": [
    {
     "name": "stderr",
     "output_type": "stream",
     "text": [
      "/opt/conda/lib/python3.10/site-packages/scipy/__init__.py:146: UserWarning: A NumPy version >=1.16.5 and <1.23.0 is required for this version of SciPy (detected version 1.23.5\n",
      "  warnings.warn(f\"A NumPy version >={np_minversion} and <{np_maxversion}\"\n"
     ]
    }
   ],
   "source": [
    "import pandas as pd\n",
    "import numpy as np\n",
    "import seaborn as sns\n",
    "import matplotlib.pyplot as plt\n",
    "import warnings\n",
    "warnings.filterwarnings('ignore')"
   ]
  },
  {
   "cell_type": "markdown",
   "id": "1e7ae3c7",
   "metadata": {
    "papermill": {
     "duration": 0.02042,
     "end_time": "2023-08-08T13:41:40.855169",
     "exception": false,
     "start_time": "2023-08-08T13:41:40.834749",
     "status": "completed"
    },
    "tags": []
   },
   "source": [
    "# Data Exploration:"
   ]
  },
  {
   "cell_type": "markdown",
   "id": "871b6615",
   "metadata": {
    "papermill": {
     "duration": 0.019761,
     "end_time": "2023-08-08T13:41:40.895856",
     "exception": false,
     "start_time": "2023-08-08T13:41:40.876095",
     "status": "completed"
    },
    "tags": []
   },
   "source": [
    "### a. Load the dataset into your preferred data analysis tool."
   ]
  },
  {
   "cell_type": "code",
   "execution_count": 2,
   "id": "a3591e30",
   "metadata": {
    "execution": {
     "iopub.execute_input": "2023-08-08T13:41:40.937888Z",
     "iopub.status.busy": "2023-08-08T13:41:40.937439Z",
     "iopub.status.idle": "2023-08-08T13:41:41.060339Z",
     "shell.execute_reply": "2023-08-08T13:41:41.059310Z"
    },
    "papermill": {
     "duration": 0.147091,
     "end_time": "2023-08-08T13:41:41.063078",
     "exception": false,
     "start_time": "2023-08-08T13:41:40.915987",
     "status": "completed"
    },
    "tags": []
   },
   "outputs": [],
   "source": [
    "df_MP = pd.read_csv('/kaggle/input/movies-dataset-for-feature-extracion-prediction/movies.csv')"
   ]
  },
  {
   "cell_type": "markdown",
   "id": "7dfe1813",
   "metadata": {
    "papermill": {
     "duration": 0.019819,
     "end_time": "2023-08-08T13:41:41.103113",
     "exception": false,
     "start_time": "2023-08-08T13:41:41.083294",
     "status": "completed"
    },
    "tags": []
   },
   "source": [
    "### b. Perform an initial exploration of the dataset, including checking the dimensions, previewing a few rows, and identifying the data types of each column."
   ]
  },
  {
   "cell_type": "code",
   "execution_count": 3,
   "id": "ae9ddc84",
   "metadata": {
    "execution": {
     "iopub.execute_input": "2023-08-08T13:41:41.146279Z",
     "iopub.status.busy": "2023-08-08T13:41:41.145202Z",
     "iopub.status.idle": "2023-08-08T13:41:41.173321Z",
     "shell.execute_reply": "2023-08-08T13:41:41.172192Z"
    },
    "papermill": {
     "duration": 0.052588,
     "end_time": "2023-08-08T13:41:41.175741",
     "exception": false,
     "start_time": "2023-08-08T13:41:41.123153",
     "status": "completed"
    },
    "tags": []
   },
   "outputs": [
    {
     "data": {
      "text/html": [
       "<div>\n",
       "<style scoped>\n",
       "    .dataframe tbody tr th:only-of-type {\n",
       "        vertical-align: middle;\n",
       "    }\n",
       "\n",
       "    .dataframe tbody tr th {\n",
       "        vertical-align: top;\n",
       "    }\n",
       "\n",
       "    .dataframe thead th {\n",
       "        text-align: right;\n",
       "    }\n",
       "</style>\n",
       "<table border=\"1\" class=\"dataframe\">\n",
       "  <thead>\n",
       "    <tr style=\"text-align: right;\">\n",
       "      <th></th>\n",
       "      <th>MOVIES</th>\n",
       "      <th>YEAR</th>\n",
       "      <th>GENRE</th>\n",
       "      <th>RATING</th>\n",
       "      <th>ONE-LINE</th>\n",
       "      <th>STARS</th>\n",
       "      <th>VOTES</th>\n",
       "      <th>RunTime</th>\n",
       "      <th>Gross</th>\n",
       "    </tr>\n",
       "  </thead>\n",
       "  <tbody>\n",
       "    <tr>\n",
       "      <th>0</th>\n",
       "      <td>Blood Red Sky</td>\n",
       "      <td>(2021)</td>\n",
       "      <td>\\nAction, Horror, Thriller</td>\n",
       "      <td>6.1</td>\n",
       "      <td>\\nA woman with a mysterious illness is forced ...</td>\n",
       "      <td>\\n    Director:\\nPeter Thorwarth\\n| \\n    Star...</td>\n",
       "      <td>21,062</td>\n",
       "      <td>121.0</td>\n",
       "      <td>NaN</td>\n",
       "    </tr>\n",
       "    <tr>\n",
       "      <th>1</th>\n",
       "      <td>Masters of the Universe: Revelation</td>\n",
       "      <td>(2021– )</td>\n",
       "      <td>\\nAnimation, Action, Adventure</td>\n",
       "      <td>5.0</td>\n",
       "      <td>\\nThe war for Eternia begins again in what may...</td>\n",
       "      <td>\\n            \\n    Stars:\\nChris Wood, \\nSara...</td>\n",
       "      <td>17,870</td>\n",
       "      <td>25.0</td>\n",
       "      <td>NaN</td>\n",
       "    </tr>\n",
       "    <tr>\n",
       "      <th>2</th>\n",
       "      <td>The Walking Dead</td>\n",
       "      <td>(2010–2022)</td>\n",
       "      <td>\\nDrama, Horror, Thriller</td>\n",
       "      <td>8.2</td>\n",
       "      <td>\\nSheriff Deputy Rick Grimes wakes up from a c...</td>\n",
       "      <td>\\n            \\n    Stars:\\nAndrew Lincoln, \\n...</td>\n",
       "      <td>885,805</td>\n",
       "      <td>44.0</td>\n",
       "      <td>NaN</td>\n",
       "    </tr>\n",
       "    <tr>\n",
       "      <th>3</th>\n",
       "      <td>Rick and Morty</td>\n",
       "      <td>(2013– )</td>\n",
       "      <td>\\nAnimation, Adventure, Comedy</td>\n",
       "      <td>9.2</td>\n",
       "      <td>\\nAn animated series that follows the exploits...</td>\n",
       "      <td>\\n            \\n    Stars:\\nJustin Roiland, \\n...</td>\n",
       "      <td>414,849</td>\n",
       "      <td>23.0</td>\n",
       "      <td>NaN</td>\n",
       "    </tr>\n",
       "    <tr>\n",
       "      <th>4</th>\n",
       "      <td>Army of Thieves</td>\n",
       "      <td>(2021)</td>\n",
       "      <td>\\nAction, Crime, Horror</td>\n",
       "      <td>NaN</td>\n",
       "      <td>\\nA prequel, set before the events of Army of ...</td>\n",
       "      <td>\\n    Director:\\nMatthias Schweighöfer\\n| \\n  ...</td>\n",
       "      <td>NaN</td>\n",
       "      <td>NaN</td>\n",
       "      <td>NaN</td>\n",
       "    </tr>\n",
       "  </tbody>\n",
       "</table>\n",
       "</div>"
      ],
      "text/plain": [
       "                                MOVIES         YEAR  \\\n",
       "0                        Blood Red Sky       (2021)   \n",
       "1  Masters of the Universe: Revelation     (2021– )   \n",
       "2                     The Walking Dead  (2010–2022)   \n",
       "3                       Rick and Morty     (2013– )   \n",
       "4                      Army of Thieves       (2021)   \n",
       "\n",
       "                                        GENRE  RATING  \\\n",
       "0      \\nAction, Horror, Thriller                 6.1   \n",
       "1  \\nAnimation, Action, Adventure                 5.0   \n",
       "2       \\nDrama, Horror, Thriller                 8.2   \n",
       "3  \\nAnimation, Adventure, Comedy                 9.2   \n",
       "4         \\nAction, Crime, Horror                 NaN   \n",
       "\n",
       "                                            ONE-LINE  \\\n",
       "0  \\nA woman with a mysterious illness is forced ...   \n",
       "1  \\nThe war for Eternia begins again in what may...   \n",
       "2  \\nSheriff Deputy Rick Grimes wakes up from a c...   \n",
       "3  \\nAn animated series that follows the exploits...   \n",
       "4  \\nA prequel, set before the events of Army of ...   \n",
       "\n",
       "                                               STARS    VOTES  RunTime Gross  \n",
       "0  \\n    Director:\\nPeter Thorwarth\\n| \\n    Star...   21,062    121.0   NaN  \n",
       "1  \\n            \\n    Stars:\\nChris Wood, \\nSara...   17,870     25.0   NaN  \n",
       "2  \\n            \\n    Stars:\\nAndrew Lincoln, \\n...  885,805     44.0   NaN  \n",
       "3  \\n            \\n    Stars:\\nJustin Roiland, \\n...  414,849     23.0   NaN  \n",
       "4  \\n    Director:\\nMatthias Schweighöfer\\n| \\n  ...      NaN      NaN   NaN  "
      ]
     },
     "execution_count": 3,
     "metadata": {},
     "output_type": "execute_result"
    }
   ],
   "source": [
    "#preview of rows\n",
    "df_MP.head()"
   ]
  },
  {
   "cell_type": "code",
   "execution_count": 4,
   "id": "8ead3cae",
   "metadata": {
    "execution": {
     "iopub.execute_input": "2023-08-08T13:41:41.219159Z",
     "iopub.status.busy": "2023-08-08T13:41:41.218755Z",
     "iopub.status.idle": "2023-08-08T13:41:41.225771Z",
     "shell.execute_reply": "2023-08-08T13:41:41.224612Z"
    },
    "papermill": {
     "duration": 0.032013,
     "end_time": "2023-08-08T13:41:41.228444",
     "exception": false,
     "start_time": "2023-08-08T13:41:41.196431",
     "status": "completed"
    },
    "tags": []
   },
   "outputs": [
    {
     "data": {
      "text/plain": [
       "(9999, 9)"
      ]
     },
     "execution_count": 4,
     "metadata": {},
     "output_type": "execute_result"
    }
   ],
   "source": [
    "#no. of rows and columns\n",
    "df_MP.shape"
   ]
  },
  {
   "cell_type": "markdown",
   "id": "db5c978d",
   "metadata": {
    "papermill": {
     "duration": 0.020259,
     "end_time": "2023-08-08T13:41:41.270262",
     "exception": false,
     "start_time": "2023-08-08T13:41:41.250003",
     "status": "completed"
    },
    "tags": []
   },
   "source": [
    "It has 9 Columns and 9999 Rows"
   ]
  },
  {
   "cell_type": "code",
   "execution_count": 5,
   "id": "58528b85",
   "metadata": {
    "execution": {
     "iopub.execute_input": "2023-08-08T13:41:41.313708Z",
     "iopub.status.busy": "2023-08-08T13:41:41.312873Z",
     "iopub.status.idle": "2023-08-08T13:41:41.321516Z",
     "shell.execute_reply": "2023-08-08T13:41:41.320364Z"
    },
    "papermill": {
     "duration": 0.033011,
     "end_time": "2023-08-08T13:41:41.323780",
     "exception": false,
     "start_time": "2023-08-08T13:41:41.290769",
     "status": "completed"
    },
    "tags": []
   },
   "outputs": [
    {
     "data": {
      "text/plain": [
       "MOVIES       object\n",
       "YEAR         object\n",
       "GENRE        object\n",
       "RATING      float64\n",
       "ONE-LINE     object\n",
       "STARS        object\n",
       "VOTES        object\n",
       "RunTime     float64\n",
       "Gross        object\n",
       "dtype: object"
      ]
     },
     "execution_count": 5,
     "metadata": {},
     "output_type": "execute_result"
    }
   ],
   "source": [
    "#identifying the dataTypes\n",
    "df_MP.dtypes"
   ]
  },
  {
   "cell_type": "markdown",
   "id": "dd741a48",
   "metadata": {
    "papermill": {
     "duration": 0.020744,
     "end_time": "2023-08-08T13:41:41.365392",
     "exception": false,
     "start_time": "2023-08-08T13:41:41.344648",
     "status": "completed"
    },
    "tags": []
   },
   "source": [
    "2 Columns (RATINGS, RUNTIME) have float DataType and rest 7 are object"
   ]
  },
  {
   "cell_type": "markdown",
   "id": "309173e6",
   "metadata": {
    "papermill": {
     "duration": 0.020391,
     "end_time": "2023-08-08T13:41:41.406537",
     "exception": false,
     "start_time": "2023-08-08T13:41:41.386146",
     "status": "completed"
    },
    "tags": []
   },
   "source": [
    "# Handling Missing Values:"
   ]
  },
  {
   "cell_type": "markdown",
   "id": "79ca93d0",
   "metadata": {
    "papermill": {
     "duration": 0.020401,
     "end_time": "2023-08-08T13:41:41.447786",
     "exception": false,
     "start_time": "2023-08-08T13:41:41.427385",
     "status": "completed"
    },
    "tags": []
   },
   "source": [
    "### a. Identify columns with missing values."
   ]
  },
  {
   "cell_type": "code",
   "execution_count": 6,
   "id": "4fd10c64",
   "metadata": {
    "execution": {
     "iopub.execute_input": "2023-08-08T13:41:41.491502Z",
     "iopub.status.busy": "2023-08-08T13:41:41.491076Z",
     "iopub.status.idle": "2023-08-08T13:41:41.508656Z",
     "shell.execute_reply": "2023-08-08T13:41:41.507737Z"
    },
    "papermill": {
     "duration": 0.042023,
     "end_time": "2023-08-08T13:41:41.510788",
     "exception": false,
     "start_time": "2023-08-08T13:41:41.468765",
     "status": "completed"
    },
    "tags": []
   },
   "outputs": [
    {
     "data": {
      "text/plain": [
       "['YEAR', 'GENRE', 'RATING', 'VOTES', 'RunTime', 'Gross']"
      ]
     },
     "execution_count": 6,
     "metadata": {},
     "output_type": "execute_result"
    }
   ],
   "source": [
    "#columns with missing values\n",
    "[col for col in df_MP.columns if df_MP[col].isnull().any()]"
   ]
  },
  {
   "cell_type": "markdown",
   "id": "3dbeb79d",
   "metadata": {
    "papermill": {
     "duration": 0.020797,
     "end_time": "2023-08-08T13:41:41.552545",
     "exception": false,
     "start_time": "2023-08-08T13:41:41.531748",
     "status": "completed"
    },
    "tags": []
   },
   "source": [
    "Columns with missing values are ['YEAR', 'GENRE', 'RATING', 'VOTES', 'RunTime', 'Gross']"
   ]
  },
  {
   "cell_type": "markdown",
   "id": "9283828f",
   "metadata": {
    "papermill": {
     "duration": 0.020887,
     "end_time": "2023-08-08T13:41:41.594358",
     "exception": false,
     "start_time": "2023-08-08T13:41:41.573471",
     "status": "completed"
    },
    "tags": []
   },
   "source": [
    "### b. Evaluate the extent of missing values in each column and decide on an appropriate strategy for handling them (e.g., imputation or removal)."
   ]
  },
  {
   "cell_type": "code",
   "execution_count": 7,
   "id": "57dbd051",
   "metadata": {
    "execution": {
     "iopub.execute_input": "2023-08-08T13:41:41.638089Z",
     "iopub.status.busy": "2023-08-08T13:41:41.637621Z",
     "iopub.status.idle": "2023-08-08T13:41:41.656518Z",
     "shell.execute_reply": "2023-08-08T13:41:41.654919Z"
    },
    "papermill": {
     "duration": 0.043847,
     "end_time": "2023-08-08T13:41:41.659012",
     "exception": false,
     "start_time": "2023-08-08T13:41:41.615165",
     "status": "completed"
    },
    "tags": []
   },
   "outputs": [
    {
     "name": "stdout",
     "output_type": "stream",
     "text": [
      "MOVIES - 0%\n",
      "YEAR - 6%\n",
      "GENRE - 1%\n",
      "RATING - 18%\n",
      "ONE-LINE - 0%\n",
      "STARS - 0%\n",
      "VOTES - 18%\n",
      "RunTime - 30%\n",
      "Gross - 95%\n"
     ]
    }
   ],
   "source": [
    "#percentage of missing values in each column\n",
    "for col in df_MP.columns:\n",
    "    pct_missing = np.mean(df_MP[col].isnull())\n",
    "    if pct_missing >=0:\n",
    "        print('{} - {}%'.format(col, round(pct_missing*100)))"
   ]
  },
  {
   "cell_type": "code",
   "execution_count": 8,
   "id": "3ac181dd",
   "metadata": {
    "execution": {
     "iopub.execute_input": "2023-08-08T13:41:41.702799Z",
     "iopub.status.busy": "2023-08-08T13:41:41.702375Z",
     "iopub.status.idle": "2023-08-08T13:41:41.737129Z",
     "shell.execute_reply": "2023-08-08T13:41:41.735805Z"
    },
    "papermill": {
     "duration": 0.059907,
     "end_time": "2023-08-08T13:41:41.739804",
     "exception": false,
     "start_time": "2023-08-08T13:41:41.679897",
     "status": "completed"
    },
    "tags": []
   },
   "outputs": [
    {
     "data": {
      "text/plain": [
       "MOVIES         0\n",
       "YEAR         644\n",
       "GENRE         80\n",
       "RATING      1820\n",
       "ONE-LINE       0\n",
       "STARS          0\n",
       "VOTES       1820\n",
       "RunTime     2958\n",
       "Gross       9539\n",
       "dtype: int64"
      ]
     },
     "execution_count": 8,
     "metadata": {},
     "output_type": "execute_result"
    }
   ],
   "source": [
    "#number of missing values in each column\n",
    "df_MP.isnull().sum() "
   ]
  },
  {
   "cell_type": "markdown",
   "id": "65ee0f4e",
   "metadata": {
    "papermill": {
     "duration": 0.021958,
     "end_time": "2023-08-08T13:41:41.784550",
     "exception": false,
     "start_time": "2023-08-08T13:41:41.762592",
     "status": "completed"
    },
    "tags": []
   },
   "source": [
    "### c. Implement the chosen strategy and explain your reasoning behind it."
   ]
  },
  {
   "cell_type": "markdown",
   "id": "6480cc37",
   "metadata": {
    "papermill": {
     "duration": 0.020741,
     "end_time": "2023-08-08T13:41:41.826866",
     "exception": false,
     "start_time": "2023-08-08T13:41:41.806125",
     "status": "completed"
    },
    "tags": []
   },
   "source": [
    "We can use different strategies for different columns.\n",
    "\n",
    "For the 'GENRE' column, I filled missing values with 'Unknown' as it is categorical.\n",
    "\n",
    "For the 'RATING' column, I filled missing values with the mean of the column as it is numerical.\n",
    "\n",
    "For the 'VOTES' column, I removed commas and converted the values to float, and then filled missing values with the mean.\n",
    "\n",
    "For the 'RunTime' column, I filled missing values with the mean of the column as it is numerical.\n",
    "\n",
    "For the 'Gross' column, since it had 95% null values, I decided to remove the column as it might not be useful for the analysis.\n"
   ]
  },
  {
   "cell_type": "markdown",
   "id": "b5c40762",
   "metadata": {
    "papermill": {
     "duration": 0.021269,
     "end_time": "2023-08-08T13:41:41.869197",
     "exception": false,
     "start_time": "2023-08-08T13:41:41.847928",
     "status": "completed"
    },
    "tags": []
   },
   "source": [
    "# Removing Duplicates:"
   ]
  },
  {
   "cell_type": "markdown",
   "id": "dbacbfdf",
   "metadata": {
    "papermill": {
     "duration": 0.021338,
     "end_time": "2023-08-08T13:41:41.911582",
     "exception": false,
     "start_time": "2023-08-08T13:41:41.890244",
     "status": "completed"
    },
    "tags": []
   },
   "source": [
    "### a. Check for duplicate rows in the dataset."
   ]
  },
  {
   "cell_type": "code",
   "execution_count": 9,
   "id": "10c23121",
   "metadata": {
    "execution": {
     "iopub.execute_input": "2023-08-08T13:41:41.956379Z",
     "iopub.status.busy": "2023-08-08T13:41:41.955909Z",
     "iopub.status.idle": "2023-08-08T13:41:41.989990Z",
     "shell.execute_reply": "2023-08-08T13:41:41.988917Z"
    },
    "papermill": {
     "duration": 0.060138,
     "end_time": "2023-08-08T13:41:41.993142",
     "exception": false,
     "start_time": "2023-08-08T13:41:41.933004",
     "status": "completed"
    },
    "tags": []
   },
   "outputs": [],
   "source": [
    "#checking the number of duplicate rows in the dataset\n",
    "duplicate_rows = df_MP[df_MP.duplicated()]"
   ]
  },
  {
   "cell_type": "code",
   "execution_count": 10,
   "id": "a23f394f",
   "metadata": {
    "execution": {
     "iopub.execute_input": "2023-08-08T13:41:42.038642Z",
     "iopub.status.busy": "2023-08-08T13:41:42.037784Z",
     "iopub.status.idle": "2023-08-08T13:41:42.060582Z",
     "shell.execute_reply": "2023-08-08T13:41:42.059419Z"
    },
    "papermill": {
     "duration": 0.048001,
     "end_time": "2023-08-08T13:41:42.062985",
     "exception": false,
     "start_time": "2023-08-08T13:41:42.014984",
     "status": "completed"
    },
    "tags": []
   },
   "outputs": [
    {
     "data": {
      "text/html": [
       "<div>\n",
       "<style scoped>\n",
       "    .dataframe tbody tr th:only-of-type {\n",
       "        vertical-align: middle;\n",
       "    }\n",
       "\n",
       "    .dataframe tbody tr th {\n",
       "        vertical-align: top;\n",
       "    }\n",
       "\n",
       "    .dataframe thead th {\n",
       "        text-align: right;\n",
       "    }\n",
       "</style>\n",
       "<table border=\"1\" class=\"dataframe\">\n",
       "  <thead>\n",
       "    <tr style=\"text-align: right;\">\n",
       "      <th></th>\n",
       "      <th>MOVIES</th>\n",
       "      <th>YEAR</th>\n",
       "      <th>GENRE</th>\n",
       "      <th>RATING</th>\n",
       "      <th>ONE-LINE</th>\n",
       "      <th>STARS</th>\n",
       "      <th>VOTES</th>\n",
       "      <th>RunTime</th>\n",
       "      <th>Gross</th>\n",
       "    </tr>\n",
       "  </thead>\n",
       "  <tbody>\n",
       "    <tr>\n",
       "      <th>6833</th>\n",
       "      <td>Mighty Little Bheem</td>\n",
       "      <td>(2019– )</td>\n",
       "      <td>\\nAnimation, Short, Adventure</td>\n",
       "      <td>NaN</td>\n",
       "      <td>\\nAdd a Plot\\n</td>\n",
       "      <td>\\n    Directors:\\nRajiv Chilaka, \\nKrishna Moh...</td>\n",
       "      <td>NaN</td>\n",
       "      <td>NaN</td>\n",
       "      <td>NaN</td>\n",
       "    </tr>\n",
       "    <tr>\n",
       "      <th>6835</th>\n",
       "      <td>Mighty Little Bheem</td>\n",
       "      <td>(2019– )</td>\n",
       "      <td>\\nAnimation, Short, Adventure</td>\n",
       "      <td>9.0</td>\n",
       "      <td>\\nAdd a Plot\\n</td>\n",
       "      <td>\\n    Directors:\\nRajiv Chilaka, \\nKrishna Moh...</td>\n",
       "      <td>6</td>\n",
       "      <td>NaN</td>\n",
       "      <td>NaN</td>\n",
       "    </tr>\n",
       "    <tr>\n",
       "      <th>6836</th>\n",
       "      <td>Mighty Little Bheem</td>\n",
       "      <td>(2019– )</td>\n",
       "      <td>\\nAnimation, Short, Adventure</td>\n",
       "      <td>9.0</td>\n",
       "      <td>\\nAdd a Plot\\n</td>\n",
       "      <td>\\n    Directors:\\nRajiv Chilaka, \\nKrishna Moh...</td>\n",
       "      <td>6</td>\n",
       "      <td>NaN</td>\n",
       "      <td>NaN</td>\n",
       "    </tr>\n",
       "    <tr>\n",
       "      <th>6837</th>\n",
       "      <td>Mighty Little Bheem</td>\n",
       "      <td>(2019– )</td>\n",
       "      <td>\\nAnimation, Short, Adventure</td>\n",
       "      <td>NaN</td>\n",
       "      <td>\\nAdd a Plot\\n</td>\n",
       "      <td>\\n    Directors:\\nRajiv Chilaka, \\nKrishna Moh...</td>\n",
       "      <td>NaN</td>\n",
       "      <td>NaN</td>\n",
       "      <td>NaN</td>\n",
       "    </tr>\n",
       "    <tr>\n",
       "      <th>6838</th>\n",
       "      <td>Mighty Little Bheem</td>\n",
       "      <td>(2019– )</td>\n",
       "      <td>\\nAnimation, Short, Adventure</td>\n",
       "      <td>NaN</td>\n",
       "      <td>\\nAdd a Plot\\n</td>\n",
       "      <td>\\n    Directors:\\nRajiv Chilaka, \\nKrishna Moh...</td>\n",
       "      <td>NaN</td>\n",
       "      <td>NaN</td>\n",
       "      <td>NaN</td>\n",
       "    </tr>\n",
       "    <tr>\n",
       "      <th>...</th>\n",
       "      <td>...</td>\n",
       "      <td>...</td>\n",
       "      <td>...</td>\n",
       "      <td>...</td>\n",
       "      <td>...</td>\n",
       "      <td>...</td>\n",
       "      <td>...</td>\n",
       "      <td>...</td>\n",
       "      <td>...</td>\n",
       "    </tr>\n",
       "    <tr>\n",
       "      <th>9989</th>\n",
       "      <td>1899</td>\n",
       "      <td>(2022– )</td>\n",
       "      <td>\\nDrama, History, Horror</td>\n",
       "      <td>NaN</td>\n",
       "      <td>\\nAdd a Plot\\n</td>\n",
       "      <td>\\n    Director:\\nBaran bo Odar\\n</td>\n",
       "      <td>NaN</td>\n",
       "      <td>NaN</td>\n",
       "      <td>NaN</td>\n",
       "    </tr>\n",
       "    <tr>\n",
       "      <th>9990</th>\n",
       "      <td>1899</td>\n",
       "      <td>(2022– )</td>\n",
       "      <td>\\nDrama, History, Horror</td>\n",
       "      <td>NaN</td>\n",
       "      <td>\\nAdd a Plot\\n</td>\n",
       "      <td>\\n    Director:\\nBaran bo Odar\\n</td>\n",
       "      <td>NaN</td>\n",
       "      <td>NaN</td>\n",
       "      <td>NaN</td>\n",
       "    </tr>\n",
       "    <tr>\n",
       "      <th>9991</th>\n",
       "      <td>1899</td>\n",
       "      <td>(2022– )</td>\n",
       "      <td>\\nDrama, History, Horror</td>\n",
       "      <td>NaN</td>\n",
       "      <td>\\nAdd a Plot\\n</td>\n",
       "      <td>\\n    Director:\\nBaran bo Odar\\n</td>\n",
       "      <td>NaN</td>\n",
       "      <td>NaN</td>\n",
       "      <td>NaN</td>\n",
       "    </tr>\n",
       "    <tr>\n",
       "      <th>9992</th>\n",
       "      <td>1899</td>\n",
       "      <td>(2022– )</td>\n",
       "      <td>\\nDrama, History, Horror</td>\n",
       "      <td>NaN</td>\n",
       "      <td>\\nAdd a Plot\\n</td>\n",
       "      <td>\\n    Director:\\nBaran bo Odar\\n</td>\n",
       "      <td>NaN</td>\n",
       "      <td>NaN</td>\n",
       "      <td>NaN</td>\n",
       "    </tr>\n",
       "    <tr>\n",
       "      <th>9994</th>\n",
       "      <td>The Imperfects</td>\n",
       "      <td>(2021– )</td>\n",
       "      <td>\\nAdventure, Drama, Fantasy</td>\n",
       "      <td>NaN</td>\n",
       "      <td>\\nAdd a Plot\\n</td>\n",
       "      <td>\\n            \\n    Stars:\\nMorgan Taylor Camp...</td>\n",
       "      <td>NaN</td>\n",
       "      <td>NaN</td>\n",
       "      <td>NaN</td>\n",
       "    </tr>\n",
       "  </tbody>\n",
       "</table>\n",
       "<p>431 rows × 9 columns</p>\n",
       "</div>"
      ],
      "text/plain": [
       "                    MOVIES      YEAR  \\\n",
       "6833   Mighty Little Bheem  (2019– )   \n",
       "6835   Mighty Little Bheem  (2019– )   \n",
       "6836   Mighty Little Bheem  (2019– )   \n",
       "6837   Mighty Little Bheem  (2019– )   \n",
       "6838   Mighty Little Bheem  (2019– )   \n",
       "...                    ...       ...   \n",
       "9989                  1899  (2022– )   \n",
       "9990                  1899  (2022– )   \n",
       "9991                  1899  (2022– )   \n",
       "9992                  1899  (2022– )   \n",
       "9994        The Imperfects  (2021– )   \n",
       "\n",
       "                                          GENRE  RATING        ONE-LINE  \\\n",
       "6833  \\nAnimation, Short, Adventure                 NaN  \\nAdd a Plot\\n   \n",
       "6835  \\nAnimation, Short, Adventure                 9.0  \\nAdd a Plot\\n   \n",
       "6836  \\nAnimation, Short, Adventure                 9.0  \\nAdd a Plot\\n   \n",
       "6837  \\nAnimation, Short, Adventure                 NaN  \\nAdd a Plot\\n   \n",
       "6838  \\nAnimation, Short, Adventure                 NaN  \\nAdd a Plot\\n   \n",
       "...                                         ...     ...             ...   \n",
       "9989       \\nDrama, History, Horror                 NaN  \\nAdd a Plot\\n   \n",
       "9990       \\nDrama, History, Horror                 NaN  \\nAdd a Plot\\n   \n",
       "9991       \\nDrama, History, Horror                 NaN  \\nAdd a Plot\\n   \n",
       "9992       \\nDrama, History, Horror                 NaN  \\nAdd a Plot\\n   \n",
       "9994    \\nAdventure, Drama, Fantasy                 NaN  \\nAdd a Plot\\n   \n",
       "\n",
       "                                                  STARS VOTES  RunTime Gross  \n",
       "6833  \\n    Directors:\\nRajiv Chilaka, \\nKrishna Moh...   NaN      NaN   NaN  \n",
       "6835  \\n    Directors:\\nRajiv Chilaka, \\nKrishna Moh...     6      NaN   NaN  \n",
       "6836  \\n    Directors:\\nRajiv Chilaka, \\nKrishna Moh...     6      NaN   NaN  \n",
       "6837  \\n    Directors:\\nRajiv Chilaka, \\nKrishna Moh...   NaN      NaN   NaN  \n",
       "6838  \\n    Directors:\\nRajiv Chilaka, \\nKrishna Moh...   NaN      NaN   NaN  \n",
       "...                                                 ...   ...      ...   ...  \n",
       "9989                   \\n    Director:\\nBaran bo Odar\\n   NaN      NaN   NaN  \n",
       "9990                   \\n    Director:\\nBaran bo Odar\\n   NaN      NaN   NaN  \n",
       "9991                   \\n    Director:\\nBaran bo Odar\\n   NaN      NaN   NaN  \n",
       "9992                   \\n    Director:\\nBaran bo Odar\\n   NaN      NaN   NaN  \n",
       "9994  \\n            \\n    Stars:\\nMorgan Taylor Camp...   NaN      NaN   NaN  \n",
       "\n",
       "[431 rows x 9 columns]"
      ]
     },
     "execution_count": 10,
     "metadata": {},
     "output_type": "execute_result"
    }
   ],
   "source": [
    "duplicate_rows"
   ]
  },
  {
   "cell_type": "markdown",
   "id": "f70375b8",
   "metadata": {
    "papermill": {
     "duration": 0.021346,
     "end_time": "2023-08-08T13:41:42.106243",
     "exception": false,
     "start_time": "2023-08-08T13:41:42.084897",
     "status": "completed"
    },
    "tags": []
   },
   "source": [
    "There are 431 duplicate rows in the dataset"
   ]
  },
  {
   "cell_type": "markdown",
   "id": "7975b717",
   "metadata": {
    "papermill": {
     "duration": 0.022037,
     "end_time": "2023-08-08T13:41:42.150010",
     "exception": false,
     "start_time": "2023-08-08T13:41:42.127973",
     "status": "completed"
    },
    "tags": []
   },
   "source": [
    "### b. If duplicates exist, remove them and justify your approach."
   ]
  },
  {
   "cell_type": "code",
   "execution_count": 11,
   "id": "89afb2fa",
   "metadata": {
    "execution": {
     "iopub.execute_input": "2023-08-08T13:41:42.195372Z",
     "iopub.status.busy": "2023-08-08T13:41:42.194903Z",
     "iopub.status.idle": "2023-08-08T13:41:42.203580Z",
     "shell.execute_reply": "2023-08-08T13:41:42.202428Z"
    },
    "papermill": {
     "duration": 0.034113,
     "end_time": "2023-08-08T13:41:42.205783",
     "exception": false,
     "start_time": "2023-08-08T13:41:42.171670",
     "status": "completed"
    },
    "tags": []
   },
   "outputs": [],
   "source": [
    "#removing the duplicates\n",
    "df_MP.drop_duplicates(subset =\"MOVIES\",keep = False, inplace = True)"
   ]
  },
  {
   "cell_type": "markdown",
   "id": "17046bb0",
   "metadata": {
    "papermill": {
     "duration": 0.021339,
     "end_time": "2023-08-08T13:41:42.248928",
     "exception": false,
     "start_time": "2023-08-08T13:41:42.227589",
     "status": "completed"
    },
    "tags": []
   },
   "source": [
    "drop_duplicates: It is a Method to remove duplicate rows from a DataFrame.\n",
    "\n",
    "subset=\"MOVIES\": It means we chose column \"MOVIES\" to identify duplicates.\n",
    "\n",
    "keep=False: It Drops all occurrences of duplicate rows based on the \"MOVIES\" column.\n",
    "\n",
    "inplace=True: meaning it Modifies the DataFrame directly without creating a new DataFrame."
   ]
  },
  {
   "cell_type": "markdown",
   "id": "2b6817b6",
   "metadata": {
    "papermill": {
     "duration": 0.021335,
     "end_time": "2023-08-08T13:41:42.291901",
     "exception": false,
     "start_time": "2023-08-08T13:41:42.270566",
     "status": "completed"
    },
    "tags": []
   },
   "source": [
    "### c. Verify that duplicate rows have been successfully removed."
   ]
  },
  {
   "cell_type": "code",
   "execution_count": 12,
   "id": "0c187c86",
   "metadata": {
    "execution": {
     "iopub.execute_input": "2023-08-08T13:41:42.337303Z",
     "iopub.status.busy": "2023-08-08T13:41:42.336863Z",
     "iopub.status.idle": "2023-08-08T13:41:42.343763Z",
     "shell.execute_reply": "2023-08-08T13:41:42.342668Z"
    },
    "papermill": {
     "duration": 0.032607,
     "end_time": "2023-08-08T13:41:42.346172",
     "exception": false,
     "start_time": "2023-08-08T13:41:42.313565",
     "status": "completed"
    },
    "tags": []
   },
   "outputs": [
    {
     "data": {
      "text/plain": [
       "(6398, 9)"
      ]
     },
     "execution_count": 12,
     "metadata": {},
     "output_type": "execute_result"
    }
   ],
   "source": [
    "#duplicates removed\n",
    "df_MP.shape"
   ]
  },
  {
   "cell_type": "markdown",
   "id": "8f1b422e",
   "metadata": {
    "papermill": {
     "duration": 0.021353,
     "end_time": "2023-08-08T13:41:42.389568",
     "exception": false,
     "start_time": "2023-08-08T13:41:42.368215",
     "status": "completed"
    },
    "tags": []
   },
   "source": [
    "After removing the duplicates(431 rows), here we are left with 6397 rows."
   ]
  },
  {
   "cell_type": "markdown",
   "id": "0dd12533",
   "metadata": {
    "papermill": {
     "duration": 0.022311,
     "end_time": "2023-08-08T13:41:42.433991",
     "exception": false,
     "start_time": "2023-08-08T13:41:42.411680",
     "status": "completed"
    },
    "tags": []
   },
   "source": [
    "# Dealing with Inconsistent Data:"
   ]
  },
  {
   "cell_type": "markdown",
   "id": "1112aa17",
   "metadata": {
    "papermill": {
     "duration": 0.021452,
     "end_time": "2023-08-08T13:41:42.477323",
     "exception": false,
     "start_time": "2023-08-08T13:41:42.455871",
     "status": "completed"
    },
    "tags": []
   },
   "source": [
    "### a. Identify columns that contain inconsistent or erroneous data."
   ]
  },
  {
   "cell_type": "markdown",
   "id": "eb9396fb",
   "metadata": {
    "papermill": {
     "duration": 0.021521,
     "end_time": "2023-08-08T13:41:42.520701",
     "exception": false,
     "start_time": "2023-08-08T13:41:42.499180",
     "status": "completed"
    },
    "tags": []
   },
   "source": [
    "YEAR column consist of inconsistent data as it is missing years.\n",
    "\n",
    "GENRE, ONE-LINE, STARS column consist of \\n values which needs to be removed.\n",
    "\n",
    "STARS column has DIRECTOR and STARS names which needs to be seperated.\n",
    "\n",
    "datatypes of columns RATINGS, VOTES, RUNTIME, GROSS needs to be changed.\n",
    "\n",
    "Removing GROSS Column because it has 95% of null values."
   ]
  },
  {
   "cell_type": "markdown",
   "id": "ff20b823",
   "metadata": {
    "papermill": {
     "duration": 0.021563,
     "end_time": "2023-08-08T13:41:42.564216",
     "exception": false,
     "start_time": "2023-08-08T13:41:42.542653",
     "status": "completed"
    },
    "tags": []
   },
   "source": [
    "### b. Implement necessary corrections to resolve inconsistencies (e.g., standardizing formats, correcting typos)."
   ]
  },
  {
   "cell_type": "code",
   "execution_count": 13,
   "id": "0a9d00cb",
   "metadata": {
    "execution": {
     "iopub.execute_input": "2023-08-08T13:41:42.610065Z",
     "iopub.status.busy": "2023-08-08T13:41:42.609600Z",
     "iopub.status.idle": "2023-08-08T13:41:42.654496Z",
     "shell.execute_reply": "2023-08-08T13:41:42.653302Z"
    },
    "papermill": {
     "duration": 0.071191,
     "end_time": "2023-08-08T13:41:42.657290",
     "exception": false,
     "start_time": "2023-08-08T13:41:42.586099",
     "status": "completed"
    },
    "tags": []
   },
   "outputs": [],
   "source": [
    "#stripping \\n value from GENRE, ONE-LINE and STARS columns\n",
    "df_MP['GENRE'] = df_MP['GENRE'].str.replace(\"n\", \"\").str.strip()\n",
    "df_MP['ONE-LINE'] = df_MP['ONE-LINE'].str.replace(\"n\", \"\").str.strip()\n",
    "df_MP['STARS'] = df_MP['STARS'].str.replace(\"n\", \"\").str.strip()"
   ]
  },
  {
   "cell_type": "code",
   "execution_count": 14,
   "id": "7803cff6",
   "metadata": {
    "execution": {
     "iopub.execute_input": "2023-08-08T13:41:42.704796Z",
     "iopub.status.busy": "2023-08-08T13:41:42.703954Z",
     "iopub.status.idle": "2023-08-08T13:41:42.726513Z",
     "shell.execute_reply": "2023-08-08T13:41:42.725430Z"
    },
    "papermill": {
     "duration": 0.049271,
     "end_time": "2023-08-08T13:41:42.729137",
     "exception": false,
     "start_time": "2023-08-08T13:41:42.679866",
     "status": "completed"
    },
    "tags": []
   },
   "outputs": [
    {
     "data": {
      "text/html": [
       "<div>\n",
       "<style scoped>\n",
       "    .dataframe tbody tr th:only-of-type {\n",
       "        vertical-align: middle;\n",
       "    }\n",
       "\n",
       "    .dataframe tbody tr th {\n",
       "        vertical-align: top;\n",
       "    }\n",
       "\n",
       "    .dataframe thead th {\n",
       "        text-align: right;\n",
       "    }\n",
       "</style>\n",
       "<table border=\"1\" class=\"dataframe\">\n",
       "  <thead>\n",
       "    <tr style=\"text-align: right;\">\n",
       "      <th></th>\n",
       "      <th>MOVIES</th>\n",
       "      <th>YEAR</th>\n",
       "      <th>GENRE</th>\n",
       "      <th>RATING</th>\n",
       "      <th>ONE-LINE</th>\n",
       "      <th>STARS</th>\n",
       "      <th>VOTES</th>\n",
       "      <th>RunTime</th>\n",
       "      <th>Gross</th>\n",
       "    </tr>\n",
       "  </thead>\n",
       "  <tbody>\n",
       "    <tr>\n",
       "      <th>0</th>\n",
       "      <td>Blood Red Sky</td>\n",
       "      <td>(2021)</td>\n",
       "      <td>Actio, Horror, Thriller</td>\n",
       "      <td>6.1</td>\n",
       "      <td>A woma with a mysterious illess is forced ito ...</td>\n",
       "      <td>Director:\\nPeter Thorwarth\\n| \\n    Stars:\\nPe...</td>\n",
       "      <td>21,062</td>\n",
       "      <td>121.0</td>\n",
       "      <td>NaN</td>\n",
       "    </tr>\n",
       "    <tr>\n",
       "      <th>1</th>\n",
       "      <td>Masters of the Universe: Revelation</td>\n",
       "      <td>(2021– )</td>\n",
       "      <td>Aimatio, Actio, Adveture</td>\n",
       "      <td>5.0</td>\n",
       "      <td>The war for Eteria begis agai i what may be th...</td>\n",
       "      <td>Stars:\\nChris Wood, \\nSarah Michelle Gellar, \\...</td>\n",
       "      <td>17,870</td>\n",
       "      <td>25.0</td>\n",
       "      <td>NaN</td>\n",
       "    </tr>\n",
       "    <tr>\n",
       "      <th>2</th>\n",
       "      <td>The Walking Dead</td>\n",
       "      <td>(2010–2022)</td>\n",
       "      <td>Drama, Horror, Thriller</td>\n",
       "      <td>8.2</td>\n",
       "      <td>Sheriff Deputy Rick Grimes wakes up from a com...</td>\n",
       "      <td>Stars:\\nAdrew Licol, \\nNorma Reedus, \\nMelissa...</td>\n",
       "      <td>885,805</td>\n",
       "      <td>44.0</td>\n",
       "      <td>NaN</td>\n",
       "    </tr>\n",
       "    <tr>\n",
       "      <th>3</th>\n",
       "      <td>Rick and Morty</td>\n",
       "      <td>(2013– )</td>\n",
       "      <td>Aimatio, Adveture, Comedy</td>\n",
       "      <td>9.2</td>\n",
       "      <td>A aimated series that follows the exploits of ...</td>\n",
       "      <td>Stars:\\nJusti Roilad, \\nChris Parell, \\nSpecer...</td>\n",
       "      <td>414,849</td>\n",
       "      <td>23.0</td>\n",
       "      <td>NaN</td>\n",
       "    </tr>\n",
       "    <tr>\n",
       "      <th>4</th>\n",
       "      <td>Army of Thieves</td>\n",
       "      <td>(2021)</td>\n",
       "      <td>Actio, Crime, Horror</td>\n",
       "      <td>NaN</td>\n",
       "      <td>A prequel, set before the evets of Army of the...</td>\n",
       "      <td>Director:\\nMatthias Schweighöfer\\n| \\n    Star...</td>\n",
       "      <td>NaN</td>\n",
       "      <td>NaN</td>\n",
       "      <td>NaN</td>\n",
       "    </tr>\n",
       "    <tr>\n",
       "      <th>...</th>\n",
       "      <td>...</td>\n",
       "      <td>...</td>\n",
       "      <td>...</td>\n",
       "      <td>...</td>\n",
       "      <td>...</td>\n",
       "      <td>...</td>\n",
       "      <td>...</td>\n",
       "      <td>...</td>\n",
       "      <td>...</td>\n",
       "    </tr>\n",
       "    <tr>\n",
       "      <th>9845</th>\n",
       "      <td>Disparu à jamais</td>\n",
       "      <td>(2021)</td>\n",
       "      <td>Crime, Drama, Mystery</td>\n",
       "      <td>NaN</td>\n",
       "      <td>Add a Plot</td>\n",
       "      <td>Director:\\nJua Carlos Media\\n| \\n    Star:\\nBo...</td>\n",
       "      <td>NaN</td>\n",
       "      <td>NaN</td>\n",
       "      <td>NaN</td>\n",
       "    </tr>\n",
       "    <tr>\n",
       "      <th>9901</th>\n",
       "      <td>Modern Family</td>\n",
       "      <td>(2009–2020)</td>\n",
       "      <td>Comedy, Drama, Romace</td>\n",
       "      <td>8.2</td>\n",
       "      <td>Jay must adapt to his youg ew wife, Gloria ad ...</td>\n",
       "      <td>Director:\\nJaso Wier\\n| \\n    Stars:\\nEd O'Nei...</td>\n",
       "      <td>3,404</td>\n",
       "      <td>23.0</td>\n",
       "      <td>NaN</td>\n",
       "    </tr>\n",
       "    <tr>\n",
       "      <th>9993</th>\n",
       "      <td>Totenfrau</td>\n",
       "      <td>(2022– )</td>\n",
       "      <td>Drama, Thriller</td>\n",
       "      <td>NaN</td>\n",
       "      <td>Add a Plot</td>\n",
       "      <td>Director:\\nNicolai Rohde\\n| \\n    Stars:\\nFeli...</td>\n",
       "      <td>NaN</td>\n",
       "      <td>NaN</td>\n",
       "      <td>NaN</td>\n",
       "    </tr>\n",
       "    <tr>\n",
       "      <th>9995</th>\n",
       "      <td>Arcane</td>\n",
       "      <td>(2021– )</td>\n",
       "      <td>Aimatio, Actio, Adveture</td>\n",
       "      <td>NaN</td>\n",
       "      <td>Add a Plot</td>\n",
       "      <td></td>\n",
       "      <td>NaN</td>\n",
       "      <td>NaN</td>\n",
       "      <td>NaN</td>\n",
       "    </tr>\n",
       "    <tr>\n",
       "      <th>9996</th>\n",
       "      <td>Heart of Invictus</td>\n",
       "      <td>(2022– )</td>\n",
       "      <td>Documetary, Sport</td>\n",
       "      <td>NaN</td>\n",
       "      <td>Add a Plot</td>\n",
       "      <td>Director:\\nOrlado vo Eisiedel\\n| \\n    Star:\\n...</td>\n",
       "      <td>NaN</td>\n",
       "      <td>NaN</td>\n",
       "      <td>NaN</td>\n",
       "    </tr>\n",
       "  </tbody>\n",
       "</table>\n",
       "<p>6398 rows × 9 columns</p>\n",
       "</div>"
      ],
      "text/plain": [
       "                                   MOVIES         YEAR  \\\n",
       "0                           Blood Red Sky       (2021)   \n",
       "1     Masters of the Universe: Revelation     (2021– )   \n",
       "2                        The Walking Dead  (2010–2022)   \n",
       "3                          Rick and Morty     (2013– )   \n",
       "4                         Army of Thieves       (2021)   \n",
       "...                                   ...          ...   \n",
       "9845                     Disparu à jamais       (2021)   \n",
       "9901                        Modern Family  (2009–2020)   \n",
       "9993                            Totenfrau     (2022– )   \n",
       "9995                               Arcane     (2021– )   \n",
       "9996                    Heart of Invictus     (2022– )   \n",
       "\n",
       "                          GENRE  RATING  \\\n",
       "0       Actio, Horror, Thriller     6.1   \n",
       "1      Aimatio, Actio, Adveture     5.0   \n",
       "2       Drama, Horror, Thriller     8.2   \n",
       "3     Aimatio, Adveture, Comedy     9.2   \n",
       "4          Actio, Crime, Horror     NaN   \n",
       "...                         ...     ...   \n",
       "9845      Crime, Drama, Mystery     NaN   \n",
       "9901      Comedy, Drama, Romace     8.2   \n",
       "9993            Drama, Thriller     NaN   \n",
       "9995   Aimatio, Actio, Adveture     NaN   \n",
       "9996          Documetary, Sport     NaN   \n",
       "\n",
       "                                               ONE-LINE  \\\n",
       "0     A woma with a mysterious illess is forced ito ...   \n",
       "1     The war for Eteria begis agai i what may be th...   \n",
       "2     Sheriff Deputy Rick Grimes wakes up from a com...   \n",
       "3     A aimated series that follows the exploits of ...   \n",
       "4     A prequel, set before the evets of Army of the...   \n",
       "...                                                 ...   \n",
       "9845                                         Add a Plot   \n",
       "9901  Jay must adapt to his youg ew wife, Gloria ad ...   \n",
       "9993                                         Add a Plot   \n",
       "9995                                         Add a Plot   \n",
       "9996                                         Add a Plot   \n",
       "\n",
       "                                                  STARS    VOTES  RunTime  \\\n",
       "0     Director:\\nPeter Thorwarth\\n| \\n    Stars:\\nPe...   21,062    121.0   \n",
       "1     Stars:\\nChris Wood, \\nSarah Michelle Gellar, \\...   17,870     25.0   \n",
       "2     Stars:\\nAdrew Licol, \\nNorma Reedus, \\nMelissa...  885,805     44.0   \n",
       "3     Stars:\\nJusti Roilad, \\nChris Parell, \\nSpecer...  414,849     23.0   \n",
       "4     Director:\\nMatthias Schweighöfer\\n| \\n    Star...      NaN      NaN   \n",
       "...                                                 ...      ...      ...   \n",
       "9845  Director:\\nJua Carlos Media\\n| \\n    Star:\\nBo...      NaN      NaN   \n",
       "9901  Director:\\nJaso Wier\\n| \\n    Stars:\\nEd O'Nei...    3,404     23.0   \n",
       "9993  Director:\\nNicolai Rohde\\n| \\n    Stars:\\nFeli...      NaN      NaN   \n",
       "9995                                                         NaN      NaN   \n",
       "9996  Director:\\nOrlado vo Eisiedel\\n| \\n    Star:\\n...      NaN      NaN   \n",
       "\n",
       "     Gross  \n",
       "0      NaN  \n",
       "1      NaN  \n",
       "2      NaN  \n",
       "3      NaN  \n",
       "4      NaN  \n",
       "...    ...  \n",
       "9845   NaN  \n",
       "9901   NaN  \n",
       "9993   NaN  \n",
       "9995   NaN  \n",
       "9996   NaN  \n",
       "\n",
       "[6398 rows x 9 columns]"
      ]
     },
     "execution_count": 14,
     "metadata": {},
     "output_type": "execute_result"
    }
   ],
   "source": [
    "df_MP"
   ]
  },
  {
   "cell_type": "code",
   "execution_count": 15,
   "id": "0b27e83d",
   "metadata": {
    "execution": {
     "iopub.execute_input": "2023-08-08T13:41:42.777894Z",
     "iopub.status.busy": "2023-08-08T13:41:42.777088Z",
     "iopub.status.idle": "2023-08-08T13:41:42.807588Z",
     "shell.execute_reply": "2023-08-08T13:41:42.806449Z"
    },
    "papermill": {
     "duration": 0.059037,
     "end_time": "2023-08-08T13:41:42.810394",
     "exception": false,
     "start_time": "2023-08-08T13:41:42.751357",
     "status": "completed"
    },
    "tags": []
   },
   "outputs": [],
   "source": [
    "# format correction in column 'YEAR' and created a new column 'Year' with a new format\n",
    "df_MP['Year'] = df_MP['YEAR'].str.extract(r'([0-9]{4}–.*|[0-9]{4})')\n",
    "\n",
    "# stripping ')' and replacing it with \"\"\n",
    "df_MP['Year'] = df_MP['Year'].str.strip().replace(\")\", \"\")"
   ]
  },
  {
   "cell_type": "code",
   "execution_count": 16,
   "id": "1a4ca3e5",
   "metadata": {
    "execution": {
     "iopub.execute_input": "2023-08-08T13:41:42.857743Z",
     "iopub.status.busy": "2023-08-08T13:41:42.857330Z",
     "iopub.status.idle": "2023-08-08T13:41:42.877308Z",
     "shell.execute_reply": "2023-08-08T13:41:42.876357Z"
    },
    "papermill": {
     "duration": 0.047241,
     "end_time": "2023-08-08T13:41:42.879979",
     "exception": false,
     "start_time": "2023-08-08T13:41:42.832738",
     "status": "completed"
    },
    "tags": []
   },
   "outputs": [],
   "source": [
    "# Define a function to handle cases with '– )' in the year and handle missing values\n",
    "def extract_year(year):\n",
    "    if pd.notna(year) and year.endswith('– )'):\n",
    "        return year.replace('– )', '–')\n",
    "    else:\n",
    "        return year\n",
    "\n",
    "# Apply the 'extract_year' function to the 'Year' column and fill missing values with 'Unknown'\n",
    "df_MP['Year'] = df_MP['Year'].apply(extract_year).fillna('Unknown')"
   ]
  },
  {
   "cell_type": "code",
   "execution_count": 17,
   "id": "beaedf94",
   "metadata": {
    "execution": {
     "iopub.execute_input": "2023-08-08T13:41:42.927181Z",
     "iopub.status.busy": "2023-08-08T13:41:42.925901Z",
     "iopub.status.idle": "2023-08-08T13:41:42.951219Z",
     "shell.execute_reply": "2023-08-08T13:41:42.950031Z"
    },
    "papermill": {
     "duration": 0.051638,
     "end_time": "2023-08-08T13:41:42.953823",
     "exception": false,
     "start_time": "2023-08-08T13:41:42.902185",
     "status": "completed"
    },
    "tags": []
   },
   "outputs": [
    {
     "data": {
      "text/html": [
       "<div>\n",
       "<style scoped>\n",
       "    .dataframe tbody tr th:only-of-type {\n",
       "        vertical-align: middle;\n",
       "    }\n",
       "\n",
       "    .dataframe tbody tr th {\n",
       "        vertical-align: top;\n",
       "    }\n",
       "\n",
       "    .dataframe thead th {\n",
       "        text-align: right;\n",
       "    }\n",
       "</style>\n",
       "<table border=\"1\" class=\"dataframe\">\n",
       "  <thead>\n",
       "    <tr style=\"text-align: right;\">\n",
       "      <th></th>\n",
       "      <th>MOVIES</th>\n",
       "      <th>YEAR</th>\n",
       "      <th>GENRE</th>\n",
       "      <th>RATING</th>\n",
       "      <th>ONE-LINE</th>\n",
       "      <th>STARS</th>\n",
       "      <th>VOTES</th>\n",
       "      <th>RunTime</th>\n",
       "      <th>Gross</th>\n",
       "      <th>Year</th>\n",
       "    </tr>\n",
       "  </thead>\n",
       "  <tbody>\n",
       "    <tr>\n",
       "      <th>0</th>\n",
       "      <td>Blood Red Sky</td>\n",
       "      <td>(2021)</td>\n",
       "      <td>Actio, Horror, Thriller</td>\n",
       "      <td>6.1</td>\n",
       "      <td>A woma with a mysterious illess is forced ito ...</td>\n",
       "      <td>Director:\\nPeter Thorwarth\\n| \\n    Stars:\\nPe...</td>\n",
       "      <td>21,062</td>\n",
       "      <td>121.0</td>\n",
       "      <td>NaN</td>\n",
       "      <td>2021</td>\n",
       "    </tr>\n",
       "    <tr>\n",
       "      <th>1</th>\n",
       "      <td>Masters of the Universe: Revelation</td>\n",
       "      <td>(2021– )</td>\n",
       "      <td>Aimatio, Actio, Adveture</td>\n",
       "      <td>5.0</td>\n",
       "      <td>The war for Eteria begis agai i what may be th...</td>\n",
       "      <td>Stars:\\nChris Wood, \\nSarah Michelle Gellar, \\...</td>\n",
       "      <td>17,870</td>\n",
       "      <td>25.0</td>\n",
       "      <td>NaN</td>\n",
       "      <td>2021–</td>\n",
       "    </tr>\n",
       "    <tr>\n",
       "      <th>2</th>\n",
       "      <td>The Walking Dead</td>\n",
       "      <td>(2010–2022)</td>\n",
       "      <td>Drama, Horror, Thriller</td>\n",
       "      <td>8.2</td>\n",
       "      <td>Sheriff Deputy Rick Grimes wakes up from a com...</td>\n",
       "      <td>Stars:\\nAdrew Licol, \\nNorma Reedus, \\nMelissa...</td>\n",
       "      <td>885,805</td>\n",
       "      <td>44.0</td>\n",
       "      <td>NaN</td>\n",
       "      <td>2010–2022)</td>\n",
       "    </tr>\n",
       "    <tr>\n",
       "      <th>3</th>\n",
       "      <td>Rick and Morty</td>\n",
       "      <td>(2013– )</td>\n",
       "      <td>Aimatio, Adveture, Comedy</td>\n",
       "      <td>9.2</td>\n",
       "      <td>A aimated series that follows the exploits of ...</td>\n",
       "      <td>Stars:\\nJusti Roilad, \\nChris Parell, \\nSpecer...</td>\n",
       "      <td>414,849</td>\n",
       "      <td>23.0</td>\n",
       "      <td>NaN</td>\n",
       "      <td>2013–</td>\n",
       "    </tr>\n",
       "    <tr>\n",
       "      <th>4</th>\n",
       "      <td>Army of Thieves</td>\n",
       "      <td>(2021)</td>\n",
       "      <td>Actio, Crime, Horror</td>\n",
       "      <td>NaN</td>\n",
       "      <td>A prequel, set before the evets of Army of the...</td>\n",
       "      <td>Director:\\nMatthias Schweighöfer\\n| \\n    Star...</td>\n",
       "      <td>NaN</td>\n",
       "      <td>NaN</td>\n",
       "      <td>NaN</td>\n",
       "      <td>2021</td>\n",
       "    </tr>\n",
       "    <tr>\n",
       "      <th>...</th>\n",
       "      <td>...</td>\n",
       "      <td>...</td>\n",
       "      <td>...</td>\n",
       "      <td>...</td>\n",
       "      <td>...</td>\n",
       "      <td>...</td>\n",
       "      <td>...</td>\n",
       "      <td>...</td>\n",
       "      <td>...</td>\n",
       "      <td>...</td>\n",
       "    </tr>\n",
       "    <tr>\n",
       "      <th>9845</th>\n",
       "      <td>Disparu à jamais</td>\n",
       "      <td>(2021)</td>\n",
       "      <td>Crime, Drama, Mystery</td>\n",
       "      <td>NaN</td>\n",
       "      <td>Add a Plot</td>\n",
       "      <td>Director:\\nJua Carlos Media\\n| \\n    Star:\\nBo...</td>\n",
       "      <td>NaN</td>\n",
       "      <td>NaN</td>\n",
       "      <td>NaN</td>\n",
       "      <td>2021</td>\n",
       "    </tr>\n",
       "    <tr>\n",
       "      <th>9901</th>\n",
       "      <td>Modern Family</td>\n",
       "      <td>(2009–2020)</td>\n",
       "      <td>Comedy, Drama, Romace</td>\n",
       "      <td>8.2</td>\n",
       "      <td>Jay must adapt to his youg ew wife, Gloria ad ...</td>\n",
       "      <td>Director:\\nJaso Wier\\n| \\n    Stars:\\nEd O'Nei...</td>\n",
       "      <td>3,404</td>\n",
       "      <td>23.0</td>\n",
       "      <td>NaN</td>\n",
       "      <td>2009–2020)</td>\n",
       "    </tr>\n",
       "    <tr>\n",
       "      <th>9993</th>\n",
       "      <td>Totenfrau</td>\n",
       "      <td>(2022– )</td>\n",
       "      <td>Drama, Thriller</td>\n",
       "      <td>NaN</td>\n",
       "      <td>Add a Plot</td>\n",
       "      <td>Director:\\nNicolai Rohde\\n| \\n    Stars:\\nFeli...</td>\n",
       "      <td>NaN</td>\n",
       "      <td>NaN</td>\n",
       "      <td>NaN</td>\n",
       "      <td>2022–</td>\n",
       "    </tr>\n",
       "    <tr>\n",
       "      <th>9995</th>\n",
       "      <td>Arcane</td>\n",
       "      <td>(2021– )</td>\n",
       "      <td>Aimatio, Actio, Adveture</td>\n",
       "      <td>NaN</td>\n",
       "      <td>Add a Plot</td>\n",
       "      <td></td>\n",
       "      <td>NaN</td>\n",
       "      <td>NaN</td>\n",
       "      <td>NaN</td>\n",
       "      <td>2021–</td>\n",
       "    </tr>\n",
       "    <tr>\n",
       "      <th>9996</th>\n",
       "      <td>Heart of Invictus</td>\n",
       "      <td>(2022– )</td>\n",
       "      <td>Documetary, Sport</td>\n",
       "      <td>NaN</td>\n",
       "      <td>Add a Plot</td>\n",
       "      <td>Director:\\nOrlado vo Eisiedel\\n| \\n    Star:\\n...</td>\n",
       "      <td>NaN</td>\n",
       "      <td>NaN</td>\n",
       "      <td>NaN</td>\n",
       "      <td>2022–</td>\n",
       "    </tr>\n",
       "  </tbody>\n",
       "</table>\n",
       "<p>6398 rows × 10 columns</p>\n",
       "</div>"
      ],
      "text/plain": [
       "                                   MOVIES         YEAR  \\\n",
       "0                           Blood Red Sky       (2021)   \n",
       "1     Masters of the Universe: Revelation     (2021– )   \n",
       "2                        The Walking Dead  (2010–2022)   \n",
       "3                          Rick and Morty     (2013– )   \n",
       "4                         Army of Thieves       (2021)   \n",
       "...                                   ...          ...   \n",
       "9845                     Disparu à jamais       (2021)   \n",
       "9901                        Modern Family  (2009–2020)   \n",
       "9993                            Totenfrau     (2022– )   \n",
       "9995                               Arcane     (2021– )   \n",
       "9996                    Heart of Invictus     (2022– )   \n",
       "\n",
       "                          GENRE  RATING  \\\n",
       "0       Actio, Horror, Thriller     6.1   \n",
       "1      Aimatio, Actio, Adveture     5.0   \n",
       "2       Drama, Horror, Thriller     8.2   \n",
       "3     Aimatio, Adveture, Comedy     9.2   \n",
       "4          Actio, Crime, Horror     NaN   \n",
       "...                         ...     ...   \n",
       "9845      Crime, Drama, Mystery     NaN   \n",
       "9901      Comedy, Drama, Romace     8.2   \n",
       "9993            Drama, Thriller     NaN   \n",
       "9995   Aimatio, Actio, Adveture     NaN   \n",
       "9996          Documetary, Sport     NaN   \n",
       "\n",
       "                                               ONE-LINE  \\\n",
       "0     A woma with a mysterious illess is forced ito ...   \n",
       "1     The war for Eteria begis agai i what may be th...   \n",
       "2     Sheriff Deputy Rick Grimes wakes up from a com...   \n",
       "3     A aimated series that follows the exploits of ...   \n",
       "4     A prequel, set before the evets of Army of the...   \n",
       "...                                                 ...   \n",
       "9845                                         Add a Plot   \n",
       "9901  Jay must adapt to his youg ew wife, Gloria ad ...   \n",
       "9993                                         Add a Plot   \n",
       "9995                                         Add a Plot   \n",
       "9996                                         Add a Plot   \n",
       "\n",
       "                                                  STARS    VOTES  RunTime  \\\n",
       "0     Director:\\nPeter Thorwarth\\n| \\n    Stars:\\nPe...   21,062    121.0   \n",
       "1     Stars:\\nChris Wood, \\nSarah Michelle Gellar, \\...   17,870     25.0   \n",
       "2     Stars:\\nAdrew Licol, \\nNorma Reedus, \\nMelissa...  885,805     44.0   \n",
       "3     Stars:\\nJusti Roilad, \\nChris Parell, \\nSpecer...  414,849     23.0   \n",
       "4     Director:\\nMatthias Schweighöfer\\n| \\n    Star...      NaN      NaN   \n",
       "...                                                 ...      ...      ...   \n",
       "9845  Director:\\nJua Carlos Media\\n| \\n    Star:\\nBo...      NaN      NaN   \n",
       "9901  Director:\\nJaso Wier\\n| \\n    Stars:\\nEd O'Nei...    3,404     23.0   \n",
       "9993  Director:\\nNicolai Rohde\\n| \\n    Stars:\\nFeli...      NaN      NaN   \n",
       "9995                                                         NaN      NaN   \n",
       "9996  Director:\\nOrlado vo Eisiedel\\n| \\n    Star:\\n...      NaN      NaN   \n",
       "\n",
       "     Gross        Year  \n",
       "0      NaN        2021  \n",
       "1      NaN       2021–  \n",
       "2      NaN  2010–2022)  \n",
       "3      NaN       2013–  \n",
       "4      NaN        2021  \n",
       "...    ...         ...  \n",
       "9845   NaN        2021  \n",
       "9901   NaN  2009–2020)  \n",
       "9993   NaN       2022–  \n",
       "9995   NaN       2021–  \n",
       "9996   NaN       2022–  \n",
       "\n",
       "[6398 rows x 10 columns]"
      ]
     },
     "execution_count": 17,
     "metadata": {},
     "output_type": "execute_result"
    }
   ],
   "source": [
    "df_MP"
   ]
  },
  {
   "cell_type": "code",
   "execution_count": 18,
   "id": "205d0da6",
   "metadata": {
    "execution": {
     "iopub.execute_input": "2023-08-08T13:41:43.001161Z",
     "iopub.status.busy": "2023-08-08T13:41:43.000725Z",
     "iopub.status.idle": "2023-08-08T13:41:43.008087Z",
     "shell.execute_reply": "2023-08-08T13:41:43.007181Z"
    },
    "papermill": {
     "duration": 0.033643,
     "end_time": "2023-08-08T13:41:43.010367",
     "exception": false,
     "start_time": "2023-08-08T13:41:42.976724",
     "status": "completed"
    },
    "tags": []
   },
   "outputs": [],
   "source": [
    "# Filling missing values in GENRE column with 'Unknown'\n",
    "df_MP['GENRE'] = df_MP['GENRE'].fillna('Unknown')"
   ]
  },
  {
   "cell_type": "code",
   "execution_count": 19,
   "id": "de5baaf9",
   "metadata": {
    "execution": {
     "iopub.execute_input": "2023-08-08T13:41:43.059754Z",
     "iopub.status.busy": "2023-08-08T13:41:43.058627Z",
     "iopub.status.idle": "2023-08-08T13:41:43.064982Z",
     "shell.execute_reply": "2023-08-08T13:41:43.064212Z"
    },
    "papermill": {
     "duration": 0.033079,
     "end_time": "2023-08-08T13:41:43.067315",
     "exception": false,
     "start_time": "2023-08-08T13:41:43.034236",
     "status": "completed"
    },
    "tags": []
   },
   "outputs": [],
   "source": [
    "# Filling missing values in 'RATING' column with the mean of that column\n",
    "df_MP['RATING'].fillna(int(df_MP['RATING'].mean()), inplace=True)"
   ]
  },
  {
   "cell_type": "code",
   "execution_count": 20,
   "id": "c0b39b75",
   "metadata": {
    "execution": {
     "iopub.execute_input": "2023-08-08T13:41:43.116097Z",
     "iopub.status.busy": "2023-08-08T13:41:43.115288Z",
     "iopub.status.idle": "2023-08-08T13:41:43.133966Z",
     "shell.execute_reply": "2023-08-08T13:41:43.133110Z"
    },
    "papermill": {
     "duration": 0.045979,
     "end_time": "2023-08-08T13:41:43.136543",
     "exception": false,
     "start_time": "2023-08-08T13:41:43.090564",
     "status": "completed"
    },
    "tags": []
   },
   "outputs": [],
   "source": [
    "# Replacing ',' with '' in column VOTES\n",
    "df_MP['VOTES'] = df_MP['VOTES'].str.replace(',', '')\n",
    "\n",
    "# Changing the datatype of column VOTES from object to float\n",
    "df_MP['VOTES'] = pd.to_numeric(df_MP['VOTES'])\n",
    "\n",
    "# Filling missing values in VOTES column with mean values of the column\n",
    "df_MP['VOTES'].fillna((df_MP['VOTES'].mean()), inplace=True)"
   ]
  },
  {
   "cell_type": "code",
   "execution_count": 21,
   "id": "64716157",
   "metadata": {
    "execution": {
     "iopub.execute_input": "2023-08-08T13:41:43.185102Z",
     "iopub.status.busy": "2023-08-08T13:41:43.184686Z",
     "iopub.status.idle": "2023-08-08T13:41:43.192616Z",
     "shell.execute_reply": "2023-08-08T13:41:43.191498Z"
    },
    "papermill": {
     "duration": 0.034942,
     "end_time": "2023-08-08T13:41:43.195102",
     "exception": false,
     "start_time": "2023-08-08T13:41:43.160160",
     "status": "completed"
    },
    "tags": []
   },
   "outputs": [
    {
     "data": {
      "text/plain": [
       "MOVIES       object\n",
       "YEAR         object\n",
       "GENRE        object\n",
       "RATING      float64\n",
       "ONE-LINE     object\n",
       "STARS        object\n",
       "VOTES       float64\n",
       "RunTime     float64\n",
       "Gross        object\n",
       "Year         object\n",
       "dtype: object"
      ]
     },
     "execution_count": 21,
     "metadata": {},
     "output_type": "execute_result"
    }
   ],
   "source": [
    "# datatype of VOTES changed to float\n",
    "df_MP.dtypes"
   ]
  },
  {
   "cell_type": "code",
   "execution_count": 22,
   "id": "c7fec96a",
   "metadata": {
    "execution": {
     "iopub.execute_input": "2023-08-08T13:41:43.243333Z",
     "iopub.status.busy": "2023-08-08T13:41:43.242872Z",
     "iopub.status.idle": "2023-08-08T13:41:43.267365Z",
     "shell.execute_reply": "2023-08-08T13:41:43.266058Z"
    },
    "papermill": {
     "duration": 0.051861,
     "end_time": "2023-08-08T13:41:43.270296",
     "exception": false,
     "start_time": "2023-08-08T13:41:43.218435",
     "status": "completed"
    },
    "tags": []
   },
   "outputs": [
    {
     "data": {
      "text/html": [
       "<div>\n",
       "<style scoped>\n",
       "    .dataframe tbody tr th:only-of-type {\n",
       "        vertical-align: middle;\n",
       "    }\n",
       "\n",
       "    .dataframe tbody tr th {\n",
       "        vertical-align: top;\n",
       "    }\n",
       "\n",
       "    .dataframe thead th {\n",
       "        text-align: right;\n",
       "    }\n",
       "</style>\n",
       "<table border=\"1\" class=\"dataframe\">\n",
       "  <thead>\n",
       "    <tr style=\"text-align: right;\">\n",
       "      <th></th>\n",
       "      <th>MOVIES</th>\n",
       "      <th>YEAR</th>\n",
       "      <th>GENRE</th>\n",
       "      <th>RATING</th>\n",
       "      <th>ONE-LINE</th>\n",
       "      <th>STARS</th>\n",
       "      <th>VOTES</th>\n",
       "      <th>RunTime</th>\n",
       "      <th>Gross</th>\n",
       "      <th>Year</th>\n",
       "    </tr>\n",
       "  </thead>\n",
       "  <tbody>\n",
       "    <tr>\n",
       "      <th>0</th>\n",
       "      <td>Blood Red Sky</td>\n",
       "      <td>(2021)</td>\n",
       "      <td>Actio, Horror, Thriller</td>\n",
       "      <td>6.1</td>\n",
       "      <td>A woma with a mysterious illess is forced ito ...</td>\n",
       "      <td>Director:\\nPeter Thorwarth\\n| \\n    Stars:\\nPe...</td>\n",
       "      <td>21062.000000</td>\n",
       "      <td>121.0</td>\n",
       "      <td>NaN</td>\n",
       "      <td>2021</td>\n",
       "    </tr>\n",
       "    <tr>\n",
       "      <th>1</th>\n",
       "      <td>Masters of the Universe: Revelation</td>\n",
       "      <td>(2021– )</td>\n",
       "      <td>Aimatio, Actio, Adveture</td>\n",
       "      <td>5.0</td>\n",
       "      <td>The war for Eteria begis agai i what may be th...</td>\n",
       "      <td>Stars:\\nChris Wood, \\nSarah Michelle Gellar, \\...</td>\n",
       "      <td>17870.000000</td>\n",
       "      <td>25.0</td>\n",
       "      <td>NaN</td>\n",
       "      <td>2021–</td>\n",
       "    </tr>\n",
       "    <tr>\n",
       "      <th>2</th>\n",
       "      <td>The Walking Dead</td>\n",
       "      <td>(2010–2022)</td>\n",
       "      <td>Drama, Horror, Thriller</td>\n",
       "      <td>8.2</td>\n",
       "      <td>Sheriff Deputy Rick Grimes wakes up from a com...</td>\n",
       "      <td>Stars:\\nAdrew Licol, \\nNorma Reedus, \\nMelissa...</td>\n",
       "      <td>885805.000000</td>\n",
       "      <td>44.0</td>\n",
       "      <td>NaN</td>\n",
       "      <td>2010–2022)</td>\n",
       "    </tr>\n",
       "    <tr>\n",
       "      <th>3</th>\n",
       "      <td>Rick and Morty</td>\n",
       "      <td>(2013– )</td>\n",
       "      <td>Aimatio, Adveture, Comedy</td>\n",
       "      <td>9.2</td>\n",
       "      <td>A aimated series that follows the exploits of ...</td>\n",
       "      <td>Stars:\\nJusti Roilad, \\nChris Parell, \\nSpecer...</td>\n",
       "      <td>414849.000000</td>\n",
       "      <td>23.0</td>\n",
       "      <td>NaN</td>\n",
       "      <td>2013–</td>\n",
       "    </tr>\n",
       "    <tr>\n",
       "      <th>4</th>\n",
       "      <td>Army of Thieves</td>\n",
       "      <td>(2021)</td>\n",
       "      <td>Actio, Crime, Horror</td>\n",
       "      <td>6.0</td>\n",
       "      <td>A prequel, set before the evets of Army of the...</td>\n",
       "      <td>Director:\\nMatthias Schweighöfer\\n| \\n    Star...</td>\n",
       "      <td>21652.736861</td>\n",
       "      <td>NaN</td>\n",
       "      <td>NaN</td>\n",
       "      <td>2021</td>\n",
       "    </tr>\n",
       "    <tr>\n",
       "      <th>...</th>\n",
       "      <td>...</td>\n",
       "      <td>...</td>\n",
       "      <td>...</td>\n",
       "      <td>...</td>\n",
       "      <td>...</td>\n",
       "      <td>...</td>\n",
       "      <td>...</td>\n",
       "      <td>...</td>\n",
       "      <td>...</td>\n",
       "      <td>...</td>\n",
       "    </tr>\n",
       "    <tr>\n",
       "      <th>9845</th>\n",
       "      <td>Disparu à jamais</td>\n",
       "      <td>(2021)</td>\n",
       "      <td>Crime, Drama, Mystery</td>\n",
       "      <td>6.0</td>\n",
       "      <td>Add a Plot</td>\n",
       "      <td>Director:\\nJua Carlos Media\\n| \\n    Star:\\nBo...</td>\n",
       "      <td>21652.736861</td>\n",
       "      <td>NaN</td>\n",
       "      <td>NaN</td>\n",
       "      <td>2021</td>\n",
       "    </tr>\n",
       "    <tr>\n",
       "      <th>9901</th>\n",
       "      <td>Modern Family</td>\n",
       "      <td>(2009–2020)</td>\n",
       "      <td>Comedy, Drama, Romace</td>\n",
       "      <td>8.2</td>\n",
       "      <td>Jay must adapt to his youg ew wife, Gloria ad ...</td>\n",
       "      <td>Director:\\nJaso Wier\\n| \\n    Stars:\\nEd O'Nei...</td>\n",
       "      <td>3404.000000</td>\n",
       "      <td>23.0</td>\n",
       "      <td>NaN</td>\n",
       "      <td>2009–2020)</td>\n",
       "    </tr>\n",
       "    <tr>\n",
       "      <th>9993</th>\n",
       "      <td>Totenfrau</td>\n",
       "      <td>(2022– )</td>\n",
       "      <td>Drama, Thriller</td>\n",
       "      <td>6.0</td>\n",
       "      <td>Add a Plot</td>\n",
       "      <td>Director:\\nNicolai Rohde\\n| \\n    Stars:\\nFeli...</td>\n",
       "      <td>21652.736861</td>\n",
       "      <td>NaN</td>\n",
       "      <td>NaN</td>\n",
       "      <td>2022–</td>\n",
       "    </tr>\n",
       "    <tr>\n",
       "      <th>9995</th>\n",
       "      <td>Arcane</td>\n",
       "      <td>(2021– )</td>\n",
       "      <td>Aimatio, Actio, Adveture</td>\n",
       "      <td>6.0</td>\n",
       "      <td>Add a Plot</td>\n",
       "      <td></td>\n",
       "      <td>21652.736861</td>\n",
       "      <td>NaN</td>\n",
       "      <td>NaN</td>\n",
       "      <td>2021–</td>\n",
       "    </tr>\n",
       "    <tr>\n",
       "      <th>9996</th>\n",
       "      <td>Heart of Invictus</td>\n",
       "      <td>(2022– )</td>\n",
       "      <td>Documetary, Sport</td>\n",
       "      <td>6.0</td>\n",
       "      <td>Add a Plot</td>\n",
       "      <td>Director:\\nOrlado vo Eisiedel\\n| \\n    Star:\\n...</td>\n",
       "      <td>21652.736861</td>\n",
       "      <td>NaN</td>\n",
       "      <td>NaN</td>\n",
       "      <td>2022–</td>\n",
       "    </tr>\n",
       "  </tbody>\n",
       "</table>\n",
       "<p>6398 rows × 10 columns</p>\n",
       "</div>"
      ],
      "text/plain": [
       "                                   MOVIES         YEAR  \\\n",
       "0                           Blood Red Sky       (2021)   \n",
       "1     Masters of the Universe: Revelation     (2021– )   \n",
       "2                        The Walking Dead  (2010–2022)   \n",
       "3                          Rick and Morty     (2013– )   \n",
       "4                         Army of Thieves       (2021)   \n",
       "...                                   ...          ...   \n",
       "9845                     Disparu à jamais       (2021)   \n",
       "9901                        Modern Family  (2009–2020)   \n",
       "9993                            Totenfrau     (2022– )   \n",
       "9995                               Arcane     (2021– )   \n",
       "9996                    Heart of Invictus     (2022– )   \n",
       "\n",
       "                          GENRE  RATING  \\\n",
       "0       Actio, Horror, Thriller     6.1   \n",
       "1      Aimatio, Actio, Adveture     5.0   \n",
       "2       Drama, Horror, Thriller     8.2   \n",
       "3     Aimatio, Adveture, Comedy     9.2   \n",
       "4          Actio, Crime, Horror     6.0   \n",
       "...                         ...     ...   \n",
       "9845      Crime, Drama, Mystery     6.0   \n",
       "9901      Comedy, Drama, Romace     8.2   \n",
       "9993            Drama, Thriller     6.0   \n",
       "9995   Aimatio, Actio, Adveture     6.0   \n",
       "9996          Documetary, Sport     6.0   \n",
       "\n",
       "                                               ONE-LINE  \\\n",
       "0     A woma with a mysterious illess is forced ito ...   \n",
       "1     The war for Eteria begis agai i what may be th...   \n",
       "2     Sheriff Deputy Rick Grimes wakes up from a com...   \n",
       "3     A aimated series that follows the exploits of ...   \n",
       "4     A prequel, set before the evets of Army of the...   \n",
       "...                                                 ...   \n",
       "9845                                         Add a Plot   \n",
       "9901  Jay must adapt to his youg ew wife, Gloria ad ...   \n",
       "9993                                         Add a Plot   \n",
       "9995                                         Add a Plot   \n",
       "9996                                         Add a Plot   \n",
       "\n",
       "                                                  STARS          VOTES  \\\n",
       "0     Director:\\nPeter Thorwarth\\n| \\n    Stars:\\nPe...   21062.000000   \n",
       "1     Stars:\\nChris Wood, \\nSarah Michelle Gellar, \\...   17870.000000   \n",
       "2     Stars:\\nAdrew Licol, \\nNorma Reedus, \\nMelissa...  885805.000000   \n",
       "3     Stars:\\nJusti Roilad, \\nChris Parell, \\nSpecer...  414849.000000   \n",
       "4     Director:\\nMatthias Schweighöfer\\n| \\n    Star...   21652.736861   \n",
       "...                                                 ...            ...   \n",
       "9845  Director:\\nJua Carlos Media\\n| \\n    Star:\\nBo...   21652.736861   \n",
       "9901  Director:\\nJaso Wier\\n| \\n    Stars:\\nEd O'Nei...    3404.000000   \n",
       "9993  Director:\\nNicolai Rohde\\n| \\n    Stars:\\nFeli...   21652.736861   \n",
       "9995                                                      21652.736861   \n",
       "9996  Director:\\nOrlado vo Eisiedel\\n| \\n    Star:\\n...   21652.736861   \n",
       "\n",
       "      RunTime Gross        Year  \n",
       "0       121.0   NaN        2021  \n",
       "1        25.0   NaN       2021–  \n",
       "2        44.0   NaN  2010–2022)  \n",
       "3        23.0   NaN       2013–  \n",
       "4         NaN   NaN        2021  \n",
       "...       ...   ...         ...  \n",
       "9845      NaN   NaN        2021  \n",
       "9901     23.0   NaN  2009–2020)  \n",
       "9993      NaN   NaN       2022–  \n",
       "9995      NaN   NaN       2021–  \n",
       "9996      NaN   NaN       2022–  \n",
       "\n",
       "[6398 rows x 10 columns]"
      ]
     },
     "execution_count": 22,
     "metadata": {},
     "output_type": "execute_result"
    }
   ],
   "source": [
    "df_MP"
   ]
  },
  {
   "cell_type": "code",
   "execution_count": 23,
   "id": "16536445",
   "metadata": {
    "execution": {
     "iopub.execute_input": "2023-08-08T13:41:43.320757Z",
     "iopub.status.busy": "2023-08-08T13:41:43.320373Z",
     "iopub.status.idle": "2023-08-08T13:41:43.327009Z",
     "shell.execute_reply": "2023-08-08T13:41:43.325845Z"
    },
    "papermill": {
     "duration": 0.034836,
     "end_time": "2023-08-08T13:41:43.329448",
     "exception": false,
     "start_time": "2023-08-08T13:41:43.294612",
     "status": "completed"
    },
    "tags": []
   },
   "outputs": [],
   "source": [
    "# Filling missing values in RunTime column with mean values of the column\n",
    "df_MP['RunTime'].fillna(int(df_MP['RunTime'].mean()), inplace=True)"
   ]
  },
  {
   "cell_type": "code",
   "execution_count": 24,
   "id": "d18db01f",
   "metadata": {
    "execution": {
     "iopub.execute_input": "2023-08-08T13:41:43.378889Z",
     "iopub.status.busy": "2023-08-08T13:41:43.378225Z",
     "iopub.status.idle": "2023-08-08T13:41:43.385713Z",
     "shell.execute_reply": "2023-08-08T13:41:43.384880Z"
    },
    "papermill": {
     "duration": 0.034766,
     "end_time": "2023-08-08T13:41:43.387917",
     "exception": false,
     "start_time": "2023-08-08T13:41:43.353151",
     "status": "completed"
    },
    "tags": []
   },
   "outputs": [],
   "source": [
    "# Dropping 'Gross' and 'YEAR' columns from df_MP\n",
    "df_MP.drop(columns=['Gross', 'YEAR'], inplace=True)"
   ]
  },
  {
   "cell_type": "code",
   "execution_count": 25,
   "id": "76189bac",
   "metadata": {
    "execution": {
     "iopub.execute_input": "2023-08-08T13:41:43.437316Z",
     "iopub.status.busy": "2023-08-08T13:41:43.436863Z",
     "iopub.status.idle": "2023-08-08T13:41:43.462035Z",
     "shell.execute_reply": "2023-08-08T13:41:43.460876Z"
    },
    "papermill": {
     "duration": 0.053125,
     "end_time": "2023-08-08T13:41:43.464592",
     "exception": false,
     "start_time": "2023-08-08T13:41:43.411467",
     "status": "completed"
    },
    "tags": []
   },
   "outputs": [],
   "source": [
    "def extract_director(direc):\n",
    "    if 'Director' in direc or 'Directors' in direc:\n",
    "        director = direc.strip().split(\"|\")[0]  # The Second Half is the stars\n",
    "        return director.split(\":\")[1].strip()  # Return the Director name\n",
    "    else:\n",
    "        return ''\n",
    "\n",
    "def extract_stars(stars):\n",
    "    if 'Star' not in stars or 'Stars' not in stars:\n",
    "        return ''\n",
    "    else:\n",
    "        return stars.split(\":\")[-1].strip()  # last value in this list will be the stars\n",
    "\n",
    "df_MP['Director'] = df_MP['STARS'].apply(lambda d: extract_director(d))\n",
    "df_MP['Stars'] = df_MP['STARS'].apply(lambda s: extract_stars(s))"
   ]
  },
  {
   "cell_type": "code",
   "execution_count": 26,
   "id": "93285ad6",
   "metadata": {
    "execution": {
     "iopub.execute_input": "2023-08-08T13:41:43.514145Z",
     "iopub.status.busy": "2023-08-08T13:41:43.512976Z",
     "iopub.status.idle": "2023-08-08T13:41:43.520991Z",
     "shell.execute_reply": "2023-08-08T13:41:43.519767Z"
    },
    "papermill": {
     "duration": 0.03573,
     "end_time": "2023-08-08T13:41:43.523816",
     "exception": false,
     "start_time": "2023-08-08T13:41:43.488086",
     "status": "completed"
    },
    "tags": []
   },
   "outputs": [],
   "source": [
    "df_MP['Director'].fillna('Unknown', inplace=True)\n",
    "df_MP['Stars'].fillna('Unknown', inplace=True)"
   ]
  },
  {
   "cell_type": "markdown",
   "id": "11ee5da3",
   "metadata": {
    "papermill": {
     "duration": 0.023421,
     "end_time": "2023-08-08T13:41:43.571159",
     "exception": false,
     "start_time": "2023-08-08T13:41:43.547738",
     "status": "completed"
    },
    "tags": []
   },
   "source": [
    "### c. Document the changes made and explain how they improve the data quality."
   ]
  },
  {
   "cell_type": "markdown",
   "id": "efb4dbf8",
   "metadata": {
    "papermill": {
     "duration": 0.023226,
     "end_time": "2023-08-08T13:41:43.617843",
     "exception": false,
     "start_time": "2023-08-08T13:41:43.594617",
     "status": "completed"
    },
    "tags": []
   },
   "source": [
    "Filled Missing Values: The missing values in the 'GENRE', 'RATING', 'VOTES', 'RunTime', and 'Gross' columns were filled with appropriate values. Filling missing values helps in maintaining the completeness of the dataset and prevents data loss during analysis.\n",
    "\n",
    "\n",
    "Data Type Conversion: The 'VOTES' and 'Gross' columns were converted to numeric data types after removing commas and dollar signs. This conversion enables mathematical calculations and ensures consistency in data representation.\n",
    "\n",
    "\n",
    "Feature Engineering: New features, such as 'Director' and 'Stars', were extracted from the 'STARS' column to provide additional insights and improve data comprehensibility.\n",
    "\n",
    "\n",
    "Removing Unnecessary Columns: Columns like 'Gross' and 'YEAR' were dropped as they contained a significant number of missing values or were not relevant for the analysis, resulting in a more concise and focused dataset.\n",
    "\n",
    "\n",
    "Overall, these changes have improved the data quality by addressing missing values, handling outliers, converting data to appropriate types, and focusing on relevant features. The cleaned and processed dataset is now more suitable for exploratory data analysis, modeling, and generating valuable insights."
   ]
  },
  {
   "cell_type": "markdown",
   "id": "d3eddc0f",
   "metadata": {
    "papermill": {
     "duration": 0.023155,
     "end_time": "2023-08-08T13:41:43.664371",
     "exception": false,
     "start_time": "2023-08-08T13:41:43.641216",
     "status": "completed"
    },
    "tags": []
   },
   "source": [
    "# Handling Outliers:"
   ]
  },
  {
   "cell_type": "markdown",
   "id": "74a6f89f",
   "metadata": {
    "papermill": {
     "duration": 0.024449,
     "end_time": "2023-08-08T13:41:43.713169",
     "exception": false,
     "start_time": "2023-08-08T13:41:43.688720",
     "status": "completed"
    },
    "tags": []
   },
   "source": [
    "### a. Identify columns that may contain outliers."
   ]
  },
  {
   "cell_type": "code",
   "execution_count": 27,
   "id": "7791b74d",
   "metadata": {
    "execution": {
     "iopub.execute_input": "2023-08-08T13:41:43.769966Z",
     "iopub.status.busy": "2023-08-08T13:41:43.768668Z",
     "iopub.status.idle": "2023-08-08T13:41:44.398265Z",
     "shell.execute_reply": "2023-08-08T13:41:44.397013Z"
    },
    "papermill": {
     "duration": 0.659481,
     "end_time": "2023-08-08T13:41:44.401243",
     "exception": false,
     "start_time": "2023-08-08T13:41:43.741762",
     "status": "completed"
    },
    "tags": []
   },
   "outputs": [
    {
     "data": {
      "image/png": "[encoded data removed]",
      "text/plain": [
       "<Figure size 640x480 with 1 Axes>"
      ]
     },
     "metadata": {},
     "output_type": "display_data"
    },
    {
     "data": {
      "image/png": "[encoded data removed]",
      "text/plain": [
       "<Figure size 640x480 with 1 Axes>"
      ]
     },
     "metadata": {},
     "output_type": "display_data"
    },
    {
     "data": {
      "image/png": "[encoded data removed]",
      "text/plain": [
       "<Figure size 640x480 with 1 Axes>"
      ]
     },
     "metadata": {},
     "output_type": "display_data"
    }
   ],
   "source": [
    "# Create a boxplot for 'RATING' column\n",
    "sns.boxplot(data=df_MP, x='RATING')\n",
    "plt.xlabel('RATING')\n",
    "plt.title('Boxplot of RATING')\n",
    "plt.show()\n",
    "\n",
    "# Create a boxplot for 'RunTime' column\n",
    "sns.boxplot(data=df_MP, x='RunTime')\n",
    "plt.xlabel('RunTime')\n",
    "plt.title('Boxplot of RunTime')\n",
    "plt.show()\n",
    "\n",
    "# Create a boxplot for 'VOTES' column\n",
    "sns.boxplot(data=df_MP, x='VOTES')\n",
    "plt.xlabel('VOTES')\n",
    "plt.title('Boxplot of VOTES')\n",
    "plt.show()"
   ]
  },
  {
   "cell_type": "markdown",
   "id": "c725ab73",
   "metadata": {
    "papermill": {
     "duration": 0.026684,
     "end_time": "2023-08-08T13:41:44.452784",
     "exception": false,
     "start_time": "2023-08-08T13:41:44.426100",
     "status": "completed"
    },
    "tags": []
   },
   "source": [
    "On observing the graphs above:\n",
    "\n",
    "We can see that there are values present at point 0 in RunTime Column which is not possible for a movie, so RunTime Column has outliers.\n",
    "\n",
    "In RATING there are two points on the right side which are over 10 RATING which cannot be, so RATING has outliers. "
   ]
  },
  {
   "cell_type": "markdown",
   "id": "1dc33068",
   "metadata": {
    "papermill": {
     "duration": 0.024106,
     "end_time": "2023-08-08T13:41:44.501496",
     "exception": false,
     "start_time": "2023-08-08T13:41:44.477390",
     "status": "completed"
    },
    "tags": []
   },
   "source": [
    "### b. Visualize the distributions of these columns using appropriate plots (e.g., box plots, histograms)."
   ]
  },
  {
   "cell_type": "code",
   "execution_count": 28,
   "id": "70317be5",
   "metadata": {
    "execution": {
     "iopub.execute_input": "2023-08-08T13:41:44.553143Z",
     "iopub.status.busy": "2023-08-08T13:41:44.552288Z",
     "iopub.status.idle": "2023-08-08T13:41:44.559285Z",
     "shell.execute_reply": "2023-08-08T13:41:44.558294Z"
    },
    "papermill": {
     "duration": 0.035803,
     "end_time": "2023-08-08T13:41:44.561883",
     "exception": false,
     "start_time": "2023-08-08T13:41:44.526080",
     "status": "completed"
    },
    "tags": []
   },
   "outputs": [],
   "source": [
    "import matplotlib.pyplot as plt \n",
    "%matplotlib inline\n",
    "import seaborn as sns"
   ]
  },
  {
   "cell_type": "code",
   "execution_count": 29,
   "id": "049950f9",
   "metadata": {
    "execution": {
     "iopub.execute_input": "2023-08-08T13:41:44.613793Z",
     "iopub.status.busy": "2023-08-08T13:41:44.612909Z",
     "iopub.status.idle": "2023-08-08T13:41:45.682184Z",
     "shell.execute_reply": "2023-08-08T13:41:45.681192Z"
    },
    "papermill": {
     "duration": 1.097927,
     "end_time": "2023-08-08T13:41:45.684600",
     "exception": false,
     "start_time": "2023-08-08T13:41:44.586673",
     "status": "completed"
    },
    "tags": []
   },
   "outputs": [
    {
     "data": {
      "image/png": "[encoded data removed]",
      "text/plain": [
       "<Figure size 640x480 with 1 Axes>"
      ]
     },
     "metadata": {},
     "output_type": "display_data"
    },
    {
     "data": {
      "image/png": "[encoded data removed]",
      "text/plain": [
       "<Figure size 640x480 with 1 Axes>"
      ]
     },
     "metadata": {},
     "output_type": "display_data"
    }
   ],
   "source": [
    "# RATING using histogram\n",
    "sns.histplot(df_MP['RATING'])\n",
    "plt.xlabel('RATING')\n",
    "plt.title('Distribution of RATING')\n",
    "plt.show()\n",
    "\n",
    "# RunTime using histogram\n",
    "sns.histplot(df_MP['RunTime'])\n",
    "plt.xlabel('RunTime')\n",
    "plt.title('Distribution of RunTime')\n",
    "plt.show()"
   ]
  },
  {
   "cell_type": "code",
   "execution_count": 30,
   "id": "3da2c4f5",
   "metadata": {
    "execution": {
     "iopub.execute_input": "2023-08-08T13:41:45.737765Z",
     "iopub.status.busy": "2023-08-08T13:41:45.736917Z",
     "iopub.status.idle": "2023-08-08T13:41:46.078692Z",
     "shell.execute_reply": "2023-08-08T13:41:46.077513Z"
    },
    "papermill": {
     "duration": 0.371194,
     "end_time": "2023-08-08T13:41:46.081273",
     "exception": false,
     "start_time": "2023-08-08T13:41:45.710079",
     "status": "completed"
    },
    "tags": []
   },
   "outputs": [
    {
     "data": {
      "image/png": "[encoded data removed]",
      "text/plain": [
       "<Figure size 640x480 with 1 Axes>"
      ]
     },
     "metadata": {},
     "output_type": "display_data"
    }
   ],
   "source": [
    "# Top 10 Highest Rated Movies\n",
    "top_10 = df_MP.nlargest(10, 'RATING')[['MOVIES', 'RATING']]\n",
    "top_10.plot(kind='barh', x='MOVIES', y='RATING', color='cyan', legend=False)\n",
    "plt.gca().invert_yaxis()\n",
    "plt.xlabel('RATING')\n",
    "plt.title('Top 10 Highest Rated Movies')\n",
    "plt.show()"
   ]
  },
  {
   "cell_type": "code",
   "execution_count": 31,
   "id": "67fe6cff",
   "metadata": {
    "execution": {
     "iopub.execute_input": "2023-08-08T13:41:46.135111Z",
     "iopub.status.busy": "2023-08-08T13:41:46.134683Z",
     "iopub.status.idle": "2023-08-08T13:41:46.458031Z",
     "shell.execute_reply": "2023-08-08T13:41:46.456860Z"
    },
    "papermill": {
     "duration": 0.35377,
     "end_time": "2023-08-08T13:41:46.460920",
     "exception": false,
     "start_time": "2023-08-08T13:41:46.107150",
     "status": "completed"
    },
    "tags": []
   },
   "outputs": [
    {
     "data": {
      "image/png": "[encoded data removed]",
      "text/plain": [
       "<Figure size 640x480 with 1 Axes>"
      ]
     },
     "metadata": {},
     "output_type": "display_data"
    }
   ],
   "source": [
    "# Top 10 lowest rated movies\n",
    "top_10low = df_MP.nsmallest(10, 'RATING')[['MOVIES', 'RATING']]\n",
    "top_10low.plot(kind='barh', x='MOVIES', y='RATING', color='red', legend=False)\n",
    "plt.gca().invert_yaxis()\n",
    "plt.xlabel('RATING')\n",
    "plt.title('Top 10 Lowest Rated Movies')\n",
    "plt.show()"
   ]
  },
  {
   "cell_type": "code",
   "execution_count": 32,
   "id": "9354f258",
   "metadata": {
    "execution": {
     "iopub.execute_input": "2023-08-08T13:41:46.516968Z",
     "iopub.status.busy": "2023-08-08T13:41:46.516557Z",
     "iopub.status.idle": "2023-08-08T13:41:46.860776Z",
     "shell.execute_reply": "2023-08-08T13:41:46.859499Z"
    },
    "papermill": {
     "duration": 0.374887,
     "end_time": "2023-08-08T13:41:46.862973",
     "exception": false,
     "start_time": "2023-08-08T13:41:46.488086",
     "status": "completed"
    },
    "tags": []
   },
   "outputs": [
    {
     "data": {
      "image/png": "[encoded data removed]",
      "text/plain": [
       "<Figure size 640x480 with 1 Axes>"
      ]
     },
     "metadata": {},
     "output_type": "display_data"
    }
   ],
   "source": [
    "# Top 10 movies with the highest runtime\n",
    "top_10_highest_runtime = df_MP.nlargest(10, 'RunTime')[['MOVIES', 'RunTime']]\n",
    "top_10_highest_runtime.plot(kind='barh', x='MOVIES', y='RunTime', color='green', legend=False)\n",
    "plt.gca().invert_yaxis()\n",
    "plt.xlabel('RunTime')\n",
    "plt.title('Top 10 Movies with the Highest Runtime')\n",
    "plt.show()"
   ]
  },
  {
   "cell_type": "code",
   "execution_count": 33,
   "id": "06d3da43",
   "metadata": {
    "execution": {
     "iopub.execute_input": "2023-08-08T13:41:46.921002Z",
     "iopub.status.busy": "2023-08-08T13:41:46.920498Z",
     "iopub.status.idle": "2023-08-08T13:41:47.282647Z",
     "shell.execute_reply": "2023-08-08T13:41:47.281590Z"
    },
    "papermill": {
     "duration": 0.395128,
     "end_time": "2023-08-08T13:41:47.286038",
     "exception": false,
     "start_time": "2023-08-08T13:41:46.890910",
     "status": "completed"
    },
    "tags": []
   },
   "outputs": [
    {
     "data": {
      "image/png": "[encoded data removed]",
      "text/plain": [
       "<Figure size 640x480 with 1 Axes>"
      ]
     },
     "metadata": {},
     "output_type": "display_data"
    }
   ],
   "source": [
    "# Top 10 movies with the lowest runtime\n",
    "top_10_lowest_runtime = df_MP.nsmallest(10, 'RunTime')[['MOVIES', 'RunTime']]\n",
    "top_10_lowest_runtime.plot(kind='barh', x='MOVIES', y='RunTime', color='blue', legend=False)\n",
    "plt.gca().invert_yaxis()\n",
    "plt.xlabel('RunTime')\n",
    "plt.title('Top 10 Movies with the Lowest Runtime')\n",
    "plt.show()"
   ]
  },
  {
   "cell_type": "code",
   "execution_count": 34,
   "id": "24e2db9c",
   "metadata": {
    "execution": {
     "iopub.execute_input": "2023-08-08T13:41:47.345687Z",
     "iopub.status.busy": "2023-08-08T13:41:47.345298Z",
     "iopub.status.idle": "2023-08-08T13:41:47.665440Z",
     "shell.execute_reply": "2023-08-08T13:41:47.664397Z"
    },
    "papermill": {
     "duration": 0.352753,
     "end_time": "2023-08-08T13:41:47.667830",
     "exception": false,
     "start_time": "2023-08-08T13:41:47.315077",
     "status": "completed"
    },
    "tags": []
   },
   "outputs": [
    {
     "data": {
      "image/png": "[encoded data removed]",
      "text/plain": [
       "<Figure size 640x480 with 1 Axes>"
      ]
     },
     "metadata": {},
     "output_type": "display_data"
    }
   ],
   "source": [
    "import matplotlib.pyplot as plt\n",
    "\n",
    "plt.scatter(df_MP['RATING'], df_MP['VOTES'])\n",
    "plt.xlabel('RATING')\n",
    "plt.ylabel('VOTES')\n",
    "plt.title('Scatter Plot of RATING vs VOTES')\n",
    "plt.show()"
   ]
  },
  {
   "cell_type": "code",
   "execution_count": 35,
   "id": "f88ef4ec",
   "metadata": {
    "execution": {
     "iopub.execute_input": "2023-08-08T13:41:47.731130Z",
     "iopub.status.busy": "2023-08-08T13:41:47.730715Z",
     "iopub.status.idle": "2023-08-08T13:41:48.026029Z",
     "shell.execute_reply": "2023-08-08T13:41:48.024883Z"
    },
    "papermill": {
     "duration": 0.330409,
     "end_time": "2023-08-08T13:41:48.029170",
     "exception": false,
     "start_time": "2023-08-08T13:41:47.698761",
     "status": "completed"
    },
    "tags": []
   },
   "outputs": [
    {
     "data": {
      "image/png": "[encoded data removed]",
      "text/plain": [
       "<Figure size 640x480 with 1 Axes>"
      ]
     },
     "metadata": {},
     "output_type": "display_data"
    }
   ],
   "source": [
    "plt.hist(df_MP['RATING'], bins=10, edgecolor='black')\n",
    "plt.title('Histogram of RATING')\n",
    "plt.xlabel('RATING')\n",
    "plt.ylabel('Frequency')\n",
    "plt.show()"
   ]
  },
  {
   "cell_type": "code",
   "execution_count": 36,
   "id": "7b7977f2",
   "metadata": {
    "execution": {
     "iopub.execute_input": "2023-08-08T13:41:48.091909Z",
     "iopub.status.busy": "2023-08-08T13:41:48.090749Z",
     "iopub.status.idle": "2023-08-08T13:41:48.575160Z",
     "shell.execute_reply": "2023-08-08T13:41:48.573886Z"
    },
    "papermill": {
     "duration": 0.518916,
     "end_time": "2023-08-08T13:41:48.578136",
     "exception": false,
     "start_time": "2023-08-08T13:41:48.059220",
     "status": "completed"
    },
    "tags": []
   },
   "outputs": [
    {
     "data": {
      "image/png": "[encoded data removed]",
      "text/plain": [
       "<Figure size 640x480 with 2 Axes>"
      ]
     },
     "metadata": {},
     "output_type": "display_data"
    }
   ],
   "source": [
    "import seaborn as sns\n",
    "\n",
    "correlation_matrix = df_MP.corr(numeric_only=True)\n",
    "sns.heatmap(correlation_matrix, annot=True)\n",
    "plt.title('Correlation Heatmap')\n",
    "plt.show()"
   ]
  },
  {
   "cell_type": "markdown",
   "id": "a72b9ce2",
   "metadata": {
    "papermill": {
     "duration": 0.029838,
     "end_time": "2023-08-08T13:41:48.638356",
     "exception": false,
     "start_time": "2023-08-08T13:41:48.608518",
     "status": "completed"
    },
    "tags": []
   },
   "source": [
    "RATING and VOTES: 0.43 (moderate positive correlation)\n",
    "\n",
    "RATING and RunTime: 0.31 (weak positive correlation)\n",
    "\n",
    "VOTES and RunTime: 0.49 (moderate positive correlation)\n",
    "\n",
    "\n",
    "There is a moderate positive correlation between the movie's rating and the number of votes it receives, and also between the number of votes and the movie's runtime. \n",
    "\n",
    "However, the correlation between the movie's rating and runtime is weaker, suggesting that the length of a movie may not have a significant impact on its rating."
   ]
  },
  {
   "cell_type": "markdown",
   "id": "45f85af9",
   "metadata": {
    "papermill": {
     "duration": 0.029737,
     "end_time": "2023-08-08T13:41:48.698024",
     "exception": false,
     "start_time": "2023-08-08T13:41:48.668287",
     "status": "completed"
    },
    "tags": []
   },
   "source": [
    "### c. Analyze the outliers and decide on an appropriate strategy for handling them (e.g., removal or transformation)."
   ]
  },
  {
   "cell_type": "markdown",
   "id": "cf73e7f1",
   "metadata": {
    "papermill": {
     "duration": 0.029304,
     "end_time": "2023-08-08T13:41:48.757556",
     "exception": false,
     "start_time": "2023-08-08T13:41:48.728252",
     "status": "completed"
    },
    "tags": []
   },
   "source": [
    "Outliers are extreme values that deviate significantly from the majority of data.\n",
    "\n",
    "Z-score method is used to identify and handle outliers.\n",
    "\n",
    "Z-score threshold of 3 is commonly used to detect extreme values.\n",
    "\n",
    "Outliers can be removed or transformed depending on the use case.\n",
    "\n",
    "Validating outlier removal ensures data integrity and analysis reliability."
   ]
  },
  {
   "cell_type": "markdown",
   "id": "c0586d37",
   "metadata": {
    "papermill": {
     "duration": 0.030307,
     "end_time": "2023-08-08T13:41:48.818410",
     "exception": false,
     "start_time": "2023-08-08T13:41:48.788103",
     "status": "completed"
    },
    "tags": []
   },
   "source": [
    "### d. Implement the chosen strategy and validate the changes made."
   ]
  },
  {
   "cell_type": "code",
   "execution_count": 37,
   "id": "2832d80c",
   "metadata": {
    "execution": {
     "iopub.execute_input": "2023-08-08T13:41:48.881586Z",
     "iopub.status.busy": "2023-08-08T13:41:48.881162Z",
     "iopub.status.idle": "2023-08-08T13:41:48.908121Z",
     "shell.execute_reply": "2023-08-08T13:41:48.907254Z"
    },
    "papermill": {
     "duration": 0.061791,
     "end_time": "2023-08-08T13:41:48.910717",
     "exception": false,
     "start_time": "2023-08-08T13:41:48.848926",
     "status": "completed"
    },
    "tags": []
   },
   "outputs": [
    {
     "name": "stdout",
     "output_type": "stream",
     "text": [
      "Number of outliers removed from 'RATING': 37\n",
      "Number of outliers removed from 'VOTES': 144\n",
      "Outliers in 'RATING' after removal: 462     3.111487\n",
      "954     3.020249\n",
      "1445    3.020249\n",
      "2325    3.020249\n",
      "2641    3.020249\n",
      "3325    3.020249\n",
      "3355    3.111487\n",
      "3379    3.111487\n",
      "4066    3.111487\n",
      "4122    3.111487\n",
      "4192    3.020249\n",
      "4585    3.020249\n",
      "4877    3.020249\n",
      "4899    3.020249\n",
      "4962    3.020249\n",
      "5029    3.020249\n",
      "5220    3.020249\n",
      "5735    3.020249\n",
      "5774    3.111487\n",
      "5871    3.111487\n",
      "6201    3.020249\n",
      "6292    3.111487\n",
      "Name: RATING, dtype: float64\n",
      "Outliers in 'VOTES' after removal: 29      6.678081\n",
      "32      7.850311\n",
      "33      3.739131\n",
      "38      5.283281\n",
      "39      7.649673\n",
      "          ...   \n",
      "1109    3.486871\n",
      "1211    3.015418\n",
      "1298    3.199305\n",
      "1373    3.698676\n",
      "1476    3.268179\n",
      "Name: VOTES, Length: 168, dtype: float64\n"
     ]
    }
   ],
   "source": [
    "from scipy import stats\n",
    "\n",
    "# Handling Outliers for 'RATING' column\n",
    "z_scores_rating = np.abs(stats.zscore(df_MP['RATING']))\n",
    "threshold = 3\n",
    "outliers_rating = df_MP[z_scores_rating > threshold]\n",
    "df_MP_cleaned = df_MP[z_scores_rating <= threshold]\n",
    "\n",
    "num_outliers_rating = len(df_MP) - len(df_MP_cleaned)\n",
    "print(f\"Number of outliers removed from 'RATING': {num_outliers_rating}\")\n",
    "\n",
    "# Handling Outliers for 'VOTES' column\n",
    "z_scores_votes = np.abs(stats.zscore(df_MP['VOTES']))\n",
    "threshold = 3\n",
    "outliers_votes = df_MP[z_scores_votes > threshold]\n",
    "df_MP_cleaned = df_MP_cleaned[z_scores_votes <= threshold]\n",
    "\n",
    "num_outliers_votes = len(df_MP) - len(df_MP_cleaned)\n",
    "print(f\"Number of outliers removed from 'VOTES': {num_outliers_votes}\")\n",
    "\n",
    "# Validate the changes made\n",
    "# Check for outliers in 'RATING' and 'VOTES' after removal\n",
    "z_scores_rating_cleaned = np.abs(stats.zscore(df_MP_cleaned['RATING']))\n",
    "z_scores_votes_cleaned = np.abs(stats.zscore(df_MP_cleaned['VOTES']))\n",
    "\n",
    "print(f\"Outliers in 'RATING' after removal: {z_scores_rating_cleaned[z_scores_rating_cleaned > threshold]}\")\n",
    "print(f\"Outliers in 'VOTES' after removal: {z_scores_votes_cleaned[z_scores_votes_cleaned > threshold]}\")\n"
   ]
  },
  {
   "cell_type": "markdown",
   "id": "da72e9ac",
   "metadata": {
    "papermill": {
     "duration": 0.029878,
     "end_time": "2023-08-08T13:41:48.971282",
     "exception": false,
     "start_time": "2023-08-08T13:41:48.941404",
     "status": "completed"
    },
    "tags": []
   },
   "source": [
    "# Data Validation:"
   ]
  },
  {
   "cell_type": "markdown",
   "id": "d2cdb224",
   "metadata": {
    "papermill": {
     "duration": 0.030998,
     "end_time": "2023-08-08T13:41:49.032820",
     "exception": false,
     "start_time": "2023-08-08T13:41:49.001822",
     "status": "completed"
    },
    "tags": []
   },
   "source": [
    "### a. Perform any additional checks or validations that you think are necessary to ensure the overall quality of the dataset."
   ]
  },
  {
   "cell_type": "code",
   "execution_count": 38,
   "id": "7eb67cdf",
   "metadata": {
    "execution": {
     "iopub.execute_input": "2023-08-08T13:41:49.095343Z",
     "iopub.status.busy": "2023-08-08T13:41:49.094554Z",
     "iopub.status.idle": "2023-08-08T13:41:49.117141Z",
     "shell.execute_reply": "2023-08-08T13:41:49.115842Z"
    },
    "papermill": {
     "duration": 0.056924,
     "end_time": "2023-08-08T13:41:49.119603",
     "exception": false,
     "start_time": "2023-08-08T13:41:49.062679",
     "status": "completed"
    },
    "tags": []
   },
   "outputs": [
    {
     "name": "stdout",
     "output_type": "stream",
     "text": [
      "No duplicate rows found.\n"
     ]
    }
   ],
   "source": [
    "duplicate_rows = df_MP[df_MP.duplicated()]\n",
    "if duplicate_rows.empty:\n",
    "    print(\"No duplicate rows found.\")\n",
    "else:\n",
    "    print(f\"Duplicate rows found:\\n{duplicate_rows}\")"
   ]
  },
  {
   "cell_type": "code",
   "execution_count": 39,
   "id": "7be4817a",
   "metadata": {
    "execution": {
     "iopub.execute_input": "2023-08-08T13:41:49.182993Z",
     "iopub.status.busy": "2023-08-08T13:41:49.182551Z",
     "iopub.status.idle": "2023-08-08T13:41:49.205372Z",
     "shell.execute_reply": "2023-08-08T13:41:49.204197Z"
    },
    "papermill": {
     "duration": 0.05758,
     "end_time": "2023-08-08T13:41:49.208008",
     "exception": false,
     "start_time": "2023-08-08T13:41:49.150428",
     "status": "completed"
    },
    "tags": []
   },
   "outputs": [
    {
     "name": "stdout",
     "output_type": "stream",
     "text": [
      "Missing values in each column:\n",
      "MOVIES      0\n",
      "GENRE       0\n",
      "RATING      0\n",
      "ONE-LINE    0\n",
      "STARS       0\n",
      "VOTES       0\n",
      "RunTime     0\n",
      "Year        0\n",
      "Director    0\n",
      "Stars       0\n",
      "dtype: int64\n"
     ]
    }
   ],
   "source": [
    "missing_values = df_MP.isnull().sum()\n",
    "print(f\"Missing values in each column:\\n{missing_values}\")"
   ]
  },
  {
   "cell_type": "code",
   "execution_count": 40,
   "id": "b693b5d6",
   "metadata": {
    "execution": {
     "iopub.execute_input": "2023-08-08T13:41:49.271724Z",
     "iopub.status.busy": "2023-08-08T13:41:49.270888Z",
     "iopub.status.idle": "2023-08-08T13:41:49.278256Z",
     "shell.execute_reply": "2023-08-08T13:41:49.277017Z"
    },
    "papermill": {
     "duration": 0.042088,
     "end_time": "2023-08-08T13:41:49.280616",
     "exception": false,
     "start_time": "2023-08-08T13:41:49.238528",
     "status": "completed"
    },
    "tags": []
   },
   "outputs": [
    {
     "name": "stdout",
     "output_type": "stream",
     "text": [
      "Data types of columns:\n",
      "MOVIES       object\n",
      "GENRE        object\n",
      "RATING      float64\n",
      "ONE-LINE     object\n",
      "STARS        object\n",
      "VOTES       float64\n",
      "RunTime     float64\n",
      "Year         object\n",
      "Director     object\n",
      "Stars        object\n",
      "dtype: object\n"
     ]
    }
   ],
   "source": [
    "data_types = df_MP.dtypes\n",
    "print(f\"Data types of columns:\\n{data_types}\")"
   ]
  },
  {
   "cell_type": "markdown",
   "id": "7db1d839",
   "metadata": {
    "papermill": {
     "duration": 0.030514,
     "end_time": "2023-08-08T13:41:49.341845",
     "exception": false,
     "start_time": "2023-08-08T13:41:49.311331",
     "status": "completed"
    },
    "tags": []
   },
   "source": [
    "### b. Document the validation steps taken and their outcomes."
   ]
  },
  {
   "cell_type": "markdown",
   "id": "43a6f854",
   "metadata": {
    "papermill": {
     "duration": 0.030475,
     "end_time": "2023-08-08T13:41:49.403107",
     "exception": false,
     "start_time": "2023-08-08T13:41:49.372632",
     "status": "completed"
    },
    "tags": []
   },
   "source": [
    "##### Handling Missing Values:\n",
    "\n",
    "For the 'GENRE' column, I filled missing values with 'Unknown' as it was categorical.\n",
    "\n",
    "For the 'RATING' column, I filled missing values with the mean of the column as it was numerical.\n",
    "\n",
    "For the 'VOTES' column, I removed commas and converted the values to float, and then filled missing values with the mean.\n",
    "\n",
    "For the 'RunTime' column, I filled missing values with the mean of the column as it was numerical.\n",
    "\n",
    "For the 'Gross' column, since it had 95% null values, I decided to remove the column as it might not be useful for the analysis.\n",
    "\n",
    "##### Handling Outliers:\n",
    "\n",
    "I used box plots and histograms to visualize the distributions of the columns ('RATING', 'VOTES', 'RunTime', and 'Gross').\n",
    "\n",
    "I analyzed the outliers and decided on an appropriate strategy.\n",
    "\n",
    "For 'RATING' and 'VOTES', I used Z-score to identify and remove outliers.\n",
    "\n",
    "For 'RunTime', I replaced outliers with the mean value to maintain the data distribution.\n",
    "\n",
    "For 'Gross', as the column had a large number of null values, I decided to remove it.\n",
    "\n",
    "\n",
    "##### Extracting Director and Stars:\n",
    "\n",
    "I created functions to extract the director and stars from the 'STARS' column and applied them to create new columns 'Director' and 'Stars'.\n",
    "\n",
    "I filled the remaining unknown values in the 'Director' and 'Stars' columns with an empty string.\n"
   ]
  },
  {
   "cell_type": "code",
   "execution_count": null,
   "id": "e3465d8f",
   "metadata": {
    "papermill": {
     "duration": 0.034606,
     "end_time": "2023-08-08T13:41:49.468975",
     "exception": false,
     "start_time": "2023-08-08T13:41:49.434369",
     "status": "completed"
    },
    "tags": []
   },
   "outputs": [],
   "source": []
  }
 ],
 "metadata": {
  "kernelspec": {
   "display_name": "Python 3",
   "language": "python",
   "name": "python3"
  },
  "language_info": {
   "codemirror_mode": {
    "name": "ipython",
    "version": 3
   },
   "file_extension": ".py",
   "mimetype": "text/x-python",
   "name": "python",
   "nbconvert_exporter": "python",
   "pygments_lexer": "ipython3",
   "version": "3.10.12"
  },
  "papermill": {
   "default_parameters": {},
   "duration": 22.23672,
   "end_time": "2023-08-08T13:41:50.522400",
   "environment_variables": {},
   "exception": null,
   "input_path": "__notebook__.ipynb",
   "output_path": "__notebook__.ipynb",
   "parameters": {},
   "start_time": "2023-08-08T13:41:28.285680",
   "version": "2.4.0"
  }
 },
 "nbformat": 4,
 "nbformat_minor": 5
}
